{
  "nbformat": 4,
  "nbformat_minor": 0,
  "metadata": {
    "colab": {
      "provenance": [],
      "collapsed_sections": []
    },
    "kernelspec": {
      "name": "python3",
      "display_name": "Python 3"
    },
    "language_info": {
      "name": "python"
    },
    "accelerator": "GPU",
    "gpuClass": "standard"
  },
  "cells": [
    {
      "cell_type": "markdown",
      "source": [
        "## 🛠 Exercises\n",
        "\n",
        "1. Spend 20-minutes reading and interacting with the [CNN explainer website](https://poloclub.github.io/cnn-explainer/). \n",
        " * What are the key terms? e.g. explain convolution in your own words, pooling in your own words\n",
        "\n",
        "2. Play around with the \"understanding hyperparameters\" section in the [CNN explainer](https://poloclub.github.io/cnn-explainer/) website for 10-minutes.\n",
        "  * What is the kernel size?\n",
        "  * What is the stride? \n",
        "  * How could you adjust each of these in TensorFlow code?\n",
        "\n",
        "3. Take 10 photos of two different things and build your own CNN image classifier using the techniques we've built here.\n",
        "\n",
        "4. Find an ideal learning rate for a simple convolutional neural network model on your the 10 class dataset."
      ],
      "metadata": {
        "id": "rk1DhMw-RfDU"
      }
    },
    {
      "cell_type": "markdown",
      "source": [
        "### Number 1"
      ],
      "metadata": {
        "id": "9SmQCTkySDqV"
      }
    },
    {
      "cell_type": "markdown",
      "source": [
        "1. **Pool layer** is  downsamples or shrink input image with take value maximal `max pool` or by average valur `average pool`  <br>\n",
        "2. **Convolution layer** is feature extraction perform aritmath dot prodcut with kernel.\n"
      ],
      "metadata": {
        "id": "gD32HbL3SFHQ"
      }
    },
    {
      "cell_type": "markdown",
      "source": [
        "### Number 2"
      ],
      "metadata": {
        "id": "SqSzG8hssZgX"
      }
    },
    {
      "cell_type": "markdown",
      "source": [
        "1. **Kernel size** is refered to filter size how many slide image data to extract feature in image\n",
        "2. **Stride** is how many pixel kernel shifted ongoing in convlution layer\n",
        "3. `tf.keras.layers.conv2D(filter=2,\n",
        "kernel_size=2)`  "
      ],
      "metadata": {
        "id": "RPwWCCSKsaXi"
      }
    },
    {
      "cell_type": "markdown",
      "source": [
        "### Number 3"
      ],
      "metadata": {
        "id": "sk83UWqnw-Lq"
      }
    },
    {
      "cell_type": "code",
      "execution_count": 1,
      "metadata": {
        "id": "Bd3jDCUpRd4q"
      },
      "outputs": [],
      "source": [
        "import tensorflow as tf \n",
        "import numpy as np\n",
        "import random\n",
        "import matplotlib.pyplot as plt"
      ]
    },
    {
      "cell_type": "markdown",
      "source": [
        "Call Image"
      ],
      "metadata": {
        "id": "9Nqjlx6f0L57"
      }
    },
    {
      "cell_type": "code",
      "source": [
        "!wget https://github.com/ackermanjayjay/food-classification/raw/main/data_untuk_workhsop.zip"
      ],
      "metadata": {
        "colab": {
          "base_uri": "https://localhost:8080/"
        },
        "id": "tPB2L_OJGMhK",
        "outputId": "8791f391-26f2-4dd7-c6ae-0516da423e29"
      },
      "execution_count": 2,
      "outputs": [
        {
          "output_type": "stream",
          "name": "stdout",
          "text": [
            "--2022-09-03 10:33:15--  https://github.com/ackermanjayjay/food-classification/raw/main/data_untuk_workhsop.zip\n",
            "Resolving github.com (github.com)... 20.205.243.166\n",
            "Connecting to github.com (github.com)|20.205.243.166|:443... connected.\n",
            "HTTP request sent, awaiting response... 302 Found\n",
            "Location: https://raw.githubusercontent.com/ackermanjayjay/food-classification/main/data_untuk_workhsop.zip [following]\n",
            "--2022-09-03 10:33:15--  https://raw.githubusercontent.com/ackermanjayjay/food-classification/main/data_untuk_workhsop.zip\n",
            "Resolving raw.githubusercontent.com (raw.githubusercontent.com)... 185.199.108.133, 185.199.109.133, 185.199.110.133, ...\n",
            "Connecting to raw.githubusercontent.com (raw.githubusercontent.com)|185.199.108.133|:443... connected.\n",
            "HTTP request sent, awaiting response... 200 OK\n",
            "Length: 99578617 (95M) [application/zip]\n",
            "Saving to: ‘data_untuk_workhsop.zip’\n",
            "\n",
            "data_untuk_workhsop 100%[===================>]  94.96M   396MB/s    in 0.2s    \n",
            "\n",
            "2022-09-03 10:33:22 (396 MB/s) - ‘data_untuk_workhsop.zip’ saved [99578617/99578617]\n",
            "\n"
          ]
        }
      ]
    },
    {
      "cell_type": "code",
      "source": [
        "!unzip data_untuk_workhsop.zip"
      ],
      "metadata": {
        "colab": {
          "base_uri": "https://localhost:8080/"
        },
        "id": "2c5sOMklGQtZ",
        "outputId": "5cbd7c33-8512-4b94-ad2c-9dbc0e71dfb9"
      },
      "execution_count": 3,
      "outputs": [
        {
          "output_type": "stream",
          "name": "stdout",
          "text": [
            "Archive:  data_untuk_workhsop.zip\n",
            "   creating: val/\n",
            "   creating: val/fried_rice/\n",
            "  inflating: val/fried_rice/3515250.jpg  \n",
            "  inflating: val/fried_rice/3521139.jpg  \n",
            "  inflating: val/fried_rice/3528567.jpg  \n",
            "  inflating: val/fried_rice/3531198.jpg  \n",
            "  inflating: val/fried_rice/3542359.jpg  \n",
            "  inflating: val/fried_rice/3547337.jpg  \n",
            "  inflating: val/fried_rice/3554481.jpg  \n",
            "  inflating: val/fried_rice/3555295.jpg  \n",
            "  inflating: val/fried_rice/3571082.jpg  \n",
            "  inflating: val/fried_rice/3584356.jpg  \n",
            "  inflating: val/fried_rice/3586562.jpg  \n",
            "  inflating: val/fried_rice/3588023.jpg  \n",
            "  inflating: val/fried_rice/3592807.jpg  \n",
            "  inflating: val/fried_rice/3603260.jpg  \n",
            "  inflating: val/fried_rice/3607245.jpg  \n",
            "  inflating: val/fried_rice/3607348.jpg  \n",
            "  inflating: val/fried_rice/3618827.jpg  \n",
            "  inflating: val/fried_rice/3619973.jpg  \n",
            "  inflating: val/fried_rice/3620105.jpg  \n",
            "  inflating: val/fried_rice/3623708.jpg  \n",
            "  inflating: val/fried_rice/3627295.jpg  \n",
            "  inflating: val/fried_rice/3628597.jpg  \n",
            "  inflating: val/fried_rice/3632083.jpg  \n",
            "  inflating: val/fried_rice/3639224.jpg  \n",
            "  inflating: val/fried_rice/3641662.jpg  \n",
            "  inflating: val/fried_rice/3648444.jpg  \n",
            "  inflating: val/fried_rice/3661293.jpg  \n",
            "  inflating: val/fried_rice/3665211.jpg  \n",
            "  inflating: val/fried_rice/3671220.jpg  \n",
            "  inflating: val/fried_rice/3675440.jpg  \n",
            "  inflating: val/fried_rice/3678755.jpg  \n",
            "  inflating: val/fried_rice/3680103.jpg  \n",
            "  inflating: val/fried_rice/3688257.jpg  \n",
            "  inflating: val/fried_rice/3691049.jpg  \n",
            "  inflating: val/fried_rice/3695209.jpg  \n",
            "  inflating: val/fried_rice/3699771.jpg  \n",
            "  inflating: val/fried_rice/3701931.jpg  \n",
            "  inflating: val/fried_rice/3707303.jpg  \n",
            "  inflating: val/fried_rice/3708254.jpg  \n",
            "  inflating: val/fried_rice/3711009.jpg  \n",
            "  inflating: val/fried_rice/3714519.jpg  \n",
            "  inflating: val/fried_rice/3715018.jpg  \n",
            "  inflating: val/fried_rice/3716988.jpg  \n",
            "  inflating: val/fried_rice/3723259.jpg  \n",
            "  inflating: val/fried_rice/3725398.jpg  \n",
            "  inflating: val/fried_rice/3726791.jpg  \n",
            "  inflating: val/fried_rice/3729463.jpg  \n",
            "  inflating: val/fried_rice/3730808.jpg  \n",
            "  inflating: val/fried_rice/3731401.jpg  \n",
            "  inflating: val/fried_rice/3734919.jpg  \n",
            "  inflating: val/fried_rice/3735748.jpg  \n",
            "  inflating: val/fried_rice/3738502.jpg  \n",
            "  inflating: val/fried_rice/3741007.jpg  \n",
            "  inflating: val/fried_rice/3749301.jpg  \n",
            "  inflating: val/fried_rice/3752524.jpg  \n",
            "  inflating: val/fried_rice/3752798.jpg  \n",
            "  inflating: val/fried_rice/3759305.jpg  \n",
            "  inflating: val/fried_rice/3763278.jpg  \n",
            "  inflating: val/fried_rice/3763432.jpg  \n",
            "  inflating: val/fried_rice/3766596.jpg  \n",
            "  inflating: val/fried_rice/3775247.jpg  \n",
            "  inflating: val/fried_rice/3777587.jpg  \n",
            "  inflating: val/fried_rice/3778765.jpg  \n",
            "  inflating: val/fried_rice/3778971.jpg  \n",
            "  inflating: val/fried_rice/3781735.jpg  \n",
            "  inflating: val/fried_rice/3786263.jpg  \n",
            "  inflating: val/fried_rice/3786737.jpg  \n",
            "  inflating: val/fried_rice/3794680.jpg  \n",
            "  inflating: val/fried_rice/3794699.jpg  \n",
            "  inflating: val/fried_rice/3806617.jpg  \n",
            "  inflating: val/fried_rice/3806708.jpg  \n",
            "  inflating: val/fried_rice/3816808.jpg  \n",
            "  inflating: val/fried_rice/3824406.jpg  \n",
            "  inflating: val/fried_rice/3825855.jpg  \n",
            "  inflating: val/fried_rice/3826617.jpg  \n",
            "  inflating: val/fried_rice/3833523.jpg  \n",
            "  inflating: val/fried_rice/3834215.jpg  \n",
            "  inflating: val/fried_rice/3836941.jpg  \n",
            "  inflating: val/fried_rice/3840604.jpg  \n",
            "  inflating: val/fried_rice/3840615.jpg  \n",
            "  inflating: val/fried_rice/3843418.jpg  \n",
            "  inflating: val/fried_rice/3846557.jpg  \n",
            "  inflating: val/fried_rice/3848905.jpg  \n",
            "  inflating: val/fried_rice/3851764.jpg  \n",
            "  inflating: val/fried_rice/3859406.jpg  \n",
            "  inflating: val/fried_rice/3860345.jpg  \n",
            "  inflating: val/fried_rice/3866820.jpg  \n",
            "  inflating: val/fried_rice/3867293.jpg  \n",
            "  inflating: val/fried_rice/3876936.jpg  \n",
            "  inflating: val/fried_rice/3877367.jpg  \n",
            "  inflating: val/fried_rice/3881738.jpg  \n",
            "  inflating: val/fried_rice/3890737.jpg  \n",
            "  inflating: val/fried_rice/3892764.jpg  \n",
            "  inflating: val/fried_rice/3902013.jpg  \n",
            "  inflating: val/fried_rice/3903358.jpg  \n",
            "  inflating: val/fried_rice/3905893.jpg  \n",
            "  inflating: val/fried_rice/3906173.jpg  \n",
            "  inflating: val/fried_rice/3913165.jpg  \n",
            "  inflating: val/fried_rice/3917282.jpg  \n",
            "  inflating: val/fried_rice/3921590.jpg  \n",
            "   creating: val/ice_cream/\n",
            "  inflating: val/ice_cream/3523582.jpg  \n",
            "  inflating: val/ice_cream/3523878.jpg  \n",
            "  inflating: val/ice_cream/3532895.jpg  \n",
            "  inflating: val/ice_cream/3537408.jpg  \n",
            "  inflating: val/ice_cream/3539466.jpg  \n",
            "  inflating: val/ice_cream/3545231.jpg  \n",
            "  inflating: val/ice_cream/3552561.jpg  \n",
            "  inflating: val/ice_cream/3576091.jpg  \n",
            "  inflating: val/ice_cream/3583476.jpg  \n",
            "  inflating: val/ice_cream/3586089.jpg  \n",
            "  inflating: val/ice_cream/3586581.jpg  \n",
            "  inflating: val/ice_cream/3596541.jpg  \n",
            "  inflating: val/ice_cream/3606882.jpg  \n",
            "  inflating: val/ice_cream/3610816.jpg  \n",
            "  inflating: val/ice_cream/3616434.jpg  \n",
            "  inflating: val/ice_cream/3616441.jpg  \n",
            "  inflating: val/ice_cream/3621671.jpg  \n",
            "  inflating: val/ice_cream/3623126.jpg  \n",
            "  inflating: val/ice_cream/3627258.jpg  \n",
            "  inflating: val/ice_cream/3631628.jpg  \n",
            "  inflating: val/ice_cream/3637270.jpg  \n",
            "  inflating: val/ice_cream/3642492.jpg  \n",
            "  inflating: val/ice_cream/3655102.jpg  \n",
            "  inflating: val/ice_cream/3670849.jpg  \n",
            "  inflating: val/ice_cream/3676525.jpg  \n",
            "  inflating: val/ice_cream/3680697.jpg  \n",
            "  inflating: val/ice_cream/3681995.jpg  \n",
            "  inflating: val/ice_cream/3685294.jpg  \n",
            "  inflating: val/ice_cream/3685309.jpg  \n",
            "  inflating: val/ice_cream/3686074.jpg  \n",
            "  inflating: val/ice_cream/3693565.jpg  \n",
            "  inflating: val/ice_cream/3693594.jpg  \n",
            "  inflating: val/ice_cream/3698157.jpg  \n",
            "  inflating: val/ice_cream/3698312.jpg  \n",
            "  inflating: val/ice_cream/3698873.jpg  \n",
            "  inflating: val/ice_cream/3712570.jpg  \n",
            "  inflating: val/ice_cream/3730391.jpg  \n",
            "  inflating: val/ice_cream/3737151.jpg  \n",
            "  inflating: val/ice_cream/3743054.jpg  \n",
            "  inflating: val/ice_cream/3745935.jpg  \n",
            "  inflating: val/ice_cream/3748853.jpg  \n",
            "  inflating: val/ice_cream/3750378.jpg  \n",
            "  inflating: val/ice_cream/3753665.jpg  \n",
            "  inflating: val/ice_cream/3754230.jpg  \n",
            "  inflating: val/ice_cream/3754312.jpg  \n",
            "  inflating: val/ice_cream/3758284.jpg  \n",
            "  inflating: val/ice_cream/3762456.jpg  \n",
            "  inflating: val/ice_cream/3772059.jpg  \n",
            "  inflating: val/ice_cream/3773480.jpg  \n",
            "  inflating: val/ice_cream/3773707.jpg  \n",
            "  inflating: val/ice_cream/3778815.jpg  \n",
            "  inflating: val/ice_cream/3789205.jpg  \n",
            "  inflating: val/ice_cream/3792885.jpg  \n",
            "  inflating: val/ice_cream/3797196.jpg  \n",
            "  inflating: val/ice_cream/3800281.jpg  \n",
            "  inflating: val/ice_cream/3801217.jpg  \n",
            "  inflating: val/ice_cream/3802486.jpg  \n",
            "  inflating: val/ice_cream/3804697.jpg  \n",
            "  inflating: val/ice_cream/3807709.jpg  \n",
            "  inflating: val/ice_cream/3808393.jpg  \n",
            "  inflating: val/ice_cream/3809124.jpg  \n",
            "  inflating: val/ice_cream/3810015.jpg  \n",
            "  inflating: val/ice_cream/3810463.jpg  \n",
            "  inflating: val/ice_cream/3811827.jpg  \n",
            "  inflating: val/ice_cream/3813912.jpg  \n",
            "  inflating: val/ice_cream/3817299.jpg  \n",
            "  inflating: val/ice_cream/3818699.jpg  \n",
            "  inflating: val/ice_cream/3819800.jpg  \n",
            "  inflating: val/ice_cream/3829433.jpg  \n",
            "  inflating: val/ice_cream/3835521.jpg  \n",
            "  inflating: val/ice_cream/3838718.jpg  \n",
            "  inflating: val/ice_cream/3839247.jpg  \n",
            "  inflating: val/ice_cream/3839255.jpg  \n",
            "  inflating: val/ice_cream/3844423.jpg  \n",
            "  inflating: val/ice_cream/3844709.jpg  \n",
            "  inflating: val/ice_cream/3845977.jpg  \n",
            "  inflating: val/ice_cream/3846885.jpg  \n",
            "  inflating: val/ice_cream/3851385.jpg  \n",
            "  inflating: val/ice_cream/3861475.jpg  \n",
            "  inflating: val/ice_cream/3862358.jpg  \n",
            "  inflating: val/ice_cream/3870836.jpg  \n",
            "  inflating: val/ice_cream/3871579.jpg  \n",
            "  inflating: val/ice_cream/3885955.jpg  \n",
            "  inflating: val/ice_cream/3889308.jpg  \n",
            "  inflating: val/ice_cream/3891084.jpg  \n",
            "  inflating: val/ice_cream/3892674.jpg  \n",
            "  inflating: val/ice_cream/3892705.jpg  \n",
            "  inflating: val/ice_cream/3897896.jpg  \n",
            "  inflating: val/ice_cream/3897902.jpg  \n",
            "  inflating: val/ice_cream/3899164.jpg  \n",
            "  inflating: val/ice_cream/3903263.jpg  \n",
            "  inflating: val/ice_cream/3908295.jpg  \n",
            "  inflating: val/ice_cream/3908953.jpg  \n",
            "  inflating: val/ice_cream/3909276.jpg  \n",
            "  inflating: val/ice_cream/3913742.jpg  \n",
            "  inflating: val/ice_cream/3916923.jpg  \n",
            "  inflating: val/ice_cream/3917130.jpg  \n",
            "  inflating: val/ice_cream/3918403.jpg  \n",
            "  inflating: val/ice_cream/3920024.jpg  \n",
            "  inflating: val/ice_cream/3920561.jpg  \n",
            "   creating: test/\n",
            "   creating: test/fried_rice/\n",
            "  inflating: test/fried_rice/10605.jpg  \n",
            "  inflating: test/fried_rice/108226.jpg  \n",
            "  inflating: test/fried_rice/1084.jpg  \n",
            "  inflating: test/fried_rice/114567.jpg  \n",
            "  inflating: test/fried_rice/117028.jpg  \n",
            "  inflating: test/fried_rice/119047.jpg  \n",
            "  inflating: test/fried_rice/125464.jpg  \n",
            "  inflating: test/fried_rice/127048.jpg  \n",
            "  inflating: test/fried_rice/128946.jpg  \n",
            "  inflating: test/fried_rice/12989.jpg  \n",
            "  inflating: test/fried_rice/131995.jpg  \n",
            "  inflating: test/fried_rice/132813.jpg  \n",
            "  inflating: test/fried_rice/135434.jpg  \n",
            "  inflating: test/fried_rice/137130.jpg  \n",
            "  inflating: test/fried_rice/1391.jpg  \n",
            "  inflating: test/fried_rice/139328.jpg  \n",
            "  inflating: test/fried_rice/147104.jpg  \n",
            "  inflating: test/fried_rice/148404.jpg  \n",
            "  inflating: test/fried_rice/152819.jpg  \n",
            "  inflating: test/fried_rice/153082.jpg  \n",
            "  inflating: test/fried_rice/15501.jpg  \n",
            "  inflating: test/fried_rice/156926.jpg  \n",
            "  inflating: test/fried_rice/157355.jpg  \n",
            "  inflating: test/fried_rice/158328.jpg  \n",
            "  inflating: test/fried_rice/165848.jpg  \n",
            "  inflating: test/fried_rice/167102.jpg  \n",
            "  inflating: test/fried_rice/167528.jpg  \n",
            "  inflating: test/fried_rice/167726.jpg  \n",
            "  inflating: test/fried_rice/173152.jpg  \n",
            "  inflating: test/fried_rice/175944.jpg  \n",
            "  inflating: test/fried_rice/178055.jpg  \n",
            "  inflating: test/fried_rice/180974.jpg  \n",
            "  inflating: test/fried_rice/184072.jpg  \n",
            "  inflating: test/fried_rice/184580.jpg  \n",
            "  inflating: test/fried_rice/184858.jpg  \n",
            "  inflating: test/fried_rice/186402.jpg  \n",
            "  inflating: test/fried_rice/187218.jpg  \n",
            "  inflating: test/fried_rice/196228.jpg  \n",
            "  inflating: test/fried_rice/198200.jpg  \n",
            "  inflating: test/fried_rice/199719.jpg  \n",
            "  inflating: test/fried_rice/200089.jpg  \n",
            "  inflating: test/fried_rice/201524.jpg  \n",
            "  inflating: test/fried_rice/209546.jpg  \n",
            "  inflating: test/fried_rice/210027.jpg  \n",
            "  inflating: test/fried_rice/211069.jpg  \n",
            "  inflating: test/fried_rice/214377.jpg  \n",
            "  inflating: test/fried_rice/215533.jpg  \n",
            "  inflating: test/fried_rice/217324.jpg  \n",
            "  inflating: test/fried_rice/217612.jpg  \n",
            "  inflating: test/fried_rice/220092.jpg  \n",
            "  inflating: test/fried_rice/227770.jpg  \n",
            "  inflating: test/fried_rice/228039.jpg  \n",
            "  inflating: test/fried_rice/228971.jpg  \n",
            "  inflating: test/fried_rice/229229.jpg  \n",
            "  inflating: test/fried_rice/230621.jpg  \n",
            "  inflating: test/fried_rice/232527.jpg  \n",
            "  inflating: test/fried_rice/232737.jpg  \n",
            "  inflating: test/fried_rice/245314.jpg  \n",
            "  inflating: test/fried_rice/246434.jpg  \n",
            "  inflating: test/fried_rice/254025.jpg  \n",
            "  inflating: test/fried_rice/254319.jpg  \n",
            "  inflating: test/fried_rice/259723.jpg  \n",
            "  inflating: test/fried_rice/260614.jpg  \n",
            "  inflating: test/fried_rice/2608.jpg  \n",
            "  inflating: test/fried_rice/262641.jpg  \n",
            "  inflating: test/fried_rice/265492.jpg  \n",
            "  inflating: test/fried_rice/26845.jpg  \n",
            "  inflating: test/fried_rice/269815.jpg  \n",
            "  inflating: test/fried_rice/270830.jpg  \n",
            "  inflating: test/fried_rice/273524.jpg  \n",
            "  inflating: test/fried_rice/273572.jpg  \n",
            "  inflating: test/fried_rice/275018.jpg  \n",
            "  inflating: test/fried_rice/28981.jpg  \n",
            "  inflating: test/fried_rice/2908.jpg  \n",
            "  inflating: test/fried_rice/29094.jpg  \n",
            "  inflating: test/fried_rice/31060.jpg  \n",
            "  inflating: test/fried_rice/41102.jpg  \n",
            "  inflating: test/fried_rice/49075.jpg  \n",
            "  inflating: test/fried_rice/51266.jpg  \n",
            "  inflating: test/fried_rice/51345.jpg  \n",
            "  inflating: test/fried_rice/55344.jpg  \n",
            "  inflating: test/fried_rice/59189.jpg  \n",
            "  inflating: test/fried_rice/59958.jpg  \n",
            "  inflating: test/fried_rice/61049.jpg  \n",
            "  inflating: test/fried_rice/61401.jpg  \n",
            "  inflating: test/fried_rice/61692.jpg  \n",
            "  inflating: test/fried_rice/62436.jpg  \n",
            "  inflating: test/fried_rice/63081.jpg  \n",
            "  inflating: test/fried_rice/64014.jpg  \n",
            "  inflating: test/fried_rice/64950.jpg  \n",
            "  inflating: test/fried_rice/67830.jpg  \n",
            "  inflating: test/fried_rice/68708.jpg  \n",
            "  inflating: test/fried_rice/69248.jpg  \n",
            "  inflating: test/fried_rice/72138.jpg  \n",
            "  inflating: test/fried_rice/73525.jpg  \n",
            "  inflating: test/fried_rice/76256.jpg  \n",
            "  inflating: test/fried_rice/86512.jpg  \n",
            "  inflating: test/fried_rice/89644.jpg  \n",
            "  inflating: test/fried_rice/92753.jpg  \n",
            "  inflating: test/fried_rice/92791.jpg  \n",
            "   creating: test/ice_cream/\n",
            "  inflating: test/ice_cream/101858.jpg  \n",
            "  inflating: test/ice_cream/102595.jpg  \n",
            "  inflating: test/ice_cream/104465.jpg  \n",
            "  inflating: test/ice_cream/1164.jpg  \n",
            "  inflating: test/ice_cream/116769.jpg  \n",
            "  inflating: test/ice_cream/118126.jpg  \n",
            "  inflating: test/ice_cream/120289.jpg  \n",
            "  inflating: test/ice_cream/120472.jpg  \n",
            "  inflating: test/ice_cream/121650.jpg  \n",
            "  inflating: test/ice_cream/128556.jpg  \n",
            "  inflating: test/ice_cream/128941.jpg  \n",
            "  inflating: test/ice_cream/128955.jpg  \n",
            "  inflating: test/ice_cream/130043.jpg  \n",
            "  inflating: test/ice_cream/130441.jpg  \n",
            "  inflating: test/ice_cream/137146.jpg  \n",
            "  inflating: test/ice_cream/137699.jpg  \n",
            "  inflating: test/ice_cream/138570.jpg  \n",
            "  inflating: test/ice_cream/142995.jpg  \n",
            "  inflating: test/ice_cream/143864.jpg  \n",
            "  inflating: test/ice_cream/144799.jpg  \n",
            "  inflating: test/ice_cream/14484.jpg  \n",
            "  inflating: test/ice_cream/154008.jpg  \n",
            "  inflating: test/ice_cream/15420.jpg  \n",
            "  inflating: test/ice_cream/155035.jpg  \n",
            "  inflating: test/ice_cream/157314.jpg  \n",
            "  inflating: test/ice_cream/162418.jpg  \n",
            "  inflating: test/ice_cream/164659.jpg  \n",
            "  inflating: test/ice_cream/166751.jpg  \n",
            "  inflating: test/ice_cream/172466.jpg  \n",
            "  inflating: test/ice_cream/178326.jpg  \n",
            "  inflating: test/ice_cream/190452.jpg  \n",
            "  inflating: test/ice_cream/19487.jpg  \n",
            "  inflating: test/ice_cream/198102.jpg  \n",
            "  inflating: test/ice_cream/205612.jpg  \n",
            "  inflating: test/ice_cream/20777.jpg  \n",
            "  inflating: test/ice_cream/210162.jpg  \n",
            "  inflating: test/ice_cream/212596.jpg  \n",
            "  inflating: test/ice_cream/217328.jpg  \n",
            "  inflating: test/ice_cream/224718.jpg  \n",
            "  inflating: test/ice_cream/232573.jpg  \n",
            "  inflating: test/ice_cream/234799.jpg  \n",
            "  inflating: test/ice_cream/23601.jpg  \n",
            "  inflating: test/ice_cream/237800.jpg  \n",
            "  inflating: test/ice_cream/238619.jpg  \n",
            "  inflating: test/ice_cream/238730.jpg  \n",
            "  inflating: test/ice_cream/241470.jpg  \n",
            "  inflating: test/ice_cream/242794.jpg  \n",
            "  inflating: test/ice_cream/243400.jpg  \n",
            "  inflating: test/ice_cream/243829.jpg  \n",
            "  inflating: test/ice_cream/245724.jpg  \n",
            "  inflating: test/ice_cream/249354.jpg  \n",
            "  inflating: test/ice_cream/25026.jpg  \n",
            "  inflating: test/ice_cream/251451.jpg  \n",
            "  inflating: test/ice_cream/256933.jpg  \n",
            "  inflating: test/ice_cream/258111.jpg  \n",
            "  inflating: test/ice_cream/258424.jpg  \n",
            "  inflating: test/ice_cream/258802.jpg  \n",
            "  inflating: test/ice_cream/259699.jpg  \n",
            "  inflating: test/ice_cream/260943.jpg  \n",
            "  inflating: test/ice_cream/268128.jpg  \n",
            "  inflating: test/ice_cream/271948.jpg  \n",
            "  inflating: test/ice_cream/275352.jpg  \n",
            "  inflating: test/ice_cream/275381.jpg  \n",
            "  inflating: test/ice_cream/280869.jpg  \n",
            "  inflating: test/ice_cream/281269.jpg  \n",
            "  inflating: test/ice_cream/284472.jpg  \n",
            "  inflating: test/ice_cream/287843.jpg  \n",
            "  inflating: test/ice_cream/290962.jpg  \n",
            "  inflating: test/ice_cream/293489.jpg  \n",
            "  inflating: test/ice_cream/295998.jpg  \n",
            "  inflating: test/ice_cream/297315.jpg  \n",
            "  inflating: test/ice_cream/297480.jpg  \n",
            "  inflating: test/ice_cream/300549.jpg  \n",
            "  inflating: test/ice_cream/306078.jpg  \n",
            "  inflating: test/ice_cream/306221.jpg  \n",
            "  inflating: test/ice_cream/316451.jpg  \n",
            "  inflating: test/ice_cream/317515.jpg  \n",
            "  inflating: test/ice_cream/319629.jpg  \n",
            "  inflating: test/ice_cream/324125.jpg  \n",
            "  inflating: test/ice_cream/325540.jpg  \n",
            "  inflating: test/ice_cream/33485.jpg  \n",
            "  inflating: test/ice_cream/38337.jpg  \n",
            "  inflating: test/ice_cream/42252.jpg  \n",
            "  inflating: test/ice_cream/44859.jpg  \n",
            "  inflating: test/ice_cream/45059.jpg  \n",
            "  inflating: test/ice_cream/45200.jpg  \n",
            "  inflating: test/ice_cream/47909.jpg  \n",
            "  inflating: test/ice_cream/48073.jpg  \n",
            "  inflating: test/ice_cream/55601.jpg  \n",
            "  inflating: test/ice_cream/5762.jpg  \n",
            "  inflating: test/ice_cream/59144.jpg  \n",
            "  inflating: test/ice_cream/63878.jpg  \n",
            "  inflating: test/ice_cream/69414.jpg  \n",
            "  inflating: test/ice_cream/71511.jpg  \n",
            "  inflating: test/ice_cream/81939.jpg  \n",
            "  inflating: test/ice_cream/85514.jpg  \n",
            "  inflating: test/ice_cream/89027.jpg  \n",
            "  inflating: test/ice_cream/90167.jpg  \n",
            "  inflating: test/ice_cream/96935.jpg  \n",
            "  inflating: test/ice_cream/97166.jpg  \n",
            "   creating: train/\n",
            "   creating: train/fried_rice/\n",
            "  inflating: train/fried_rice/1004221.jpg  \n",
            "  inflating: train/fried_rice/1008935.jpg  \n",
            "  inflating: train/fried_rice/1015700.jpg  \n",
            "  inflating: train/fried_rice/1019981.jpg  \n",
            "  inflating: train/fried_rice/1021229.jpg  \n",
            "  inflating: train/fried_rice/1022515.jpg  \n",
            "  inflating: train/fried_rice/1023430.jpg  \n",
            "  inflating: train/fried_rice/1028159.jpg  \n",
            "  inflating: train/fried_rice/1028939.jpg  \n",
            "  inflating: train/fried_rice/1042399.jpg  \n",
            "  inflating: train/fried_rice/1043233.jpg  \n",
            "  inflating: train/fried_rice/1043851.jpg  \n",
            "  inflating: train/fried_rice/1047951.jpg  \n",
            "  inflating: train/fried_rice/1052689.jpg  \n",
            "  inflating: train/fried_rice/1053345.jpg  \n",
            "  inflating: train/fried_rice/1054627.jpg  \n",
            "  inflating: train/fried_rice/1055787.jpg  \n",
            "  inflating: train/fried_rice/1059042.jpg  \n",
            "  inflating: train/fried_rice/1062698.jpg  \n",
            "  inflating: train/fried_rice/1076217.jpg  \n",
            "  inflating: train/fried_rice/1078011.jpg  \n",
            "  inflating: train/fried_rice/1080040.jpg  \n",
            "  inflating: train/fried_rice/1081451.jpg  \n",
            "  inflating: train/fried_rice/1085986.jpg  \n",
            "  inflating: train/fried_rice/1086742.jpg  \n",
            "  inflating: train/fried_rice/1087868.jpg  \n",
            "  inflating: train/fried_rice/1095941.jpg  \n",
            "  inflating: train/fried_rice/1097624.jpg  \n",
            "  inflating: train/fried_rice/1097991.jpg  \n",
            "  inflating: train/fried_rice/1099080.jpg  \n",
            "  inflating: train/fried_rice/1100575.jpg  \n",
            "  inflating: train/fried_rice/1106712.jpg  \n",
            "  inflating: train/fried_rice/1108588.jpg  \n",
            "  inflating: train/fried_rice/1121670.jpg  \n",
            "  inflating: train/fried_rice/1121756.jpg  \n",
            "  inflating: train/fried_rice/1127099.jpg  \n",
            "  inflating: train/fried_rice/1137002.jpg  \n",
            "  inflating: train/fried_rice/1138205.jpg  \n",
            "  inflating: train/fried_rice/1139138.jpg  \n",
            "  inflating: train/fried_rice/1140757.jpg  \n",
            "  inflating: train/fried_rice/1145519.jpg  \n",
            "  inflating: train/fried_rice/1155478.jpg  \n",
            "  inflating: train/fried_rice/1157524.jpg  \n",
            "  inflating: train/fried_rice/1163008.jpg  \n",
            "  inflating: train/fried_rice/1165540.jpg  \n",
            "  inflating: train/fried_rice/1167189.jpg  \n",
            "  inflating: train/fried_rice/1172239.jpg  \n",
            "  inflating: train/fried_rice/1172581.jpg  \n",
            "  inflating: train/fried_rice/1175222.jpg  \n",
            "  inflating: train/fried_rice/1179864.jpg  \n",
            "  inflating: train/fried_rice/1181179.jpg  \n",
            "  inflating: train/fried_rice/1181973.jpg  \n",
            "  inflating: train/fried_rice/1185768.jpg  \n",
            "  inflating: train/fried_rice/1191151.jpg  \n",
            "  inflating: train/fried_rice/1193731.jpg  \n",
            "  inflating: train/fried_rice/1194902.jpg  \n",
            "  inflating: train/fried_rice/1195255.jpg  \n",
            "  inflating: train/fried_rice/1197125.jpg  \n",
            "  inflating: train/fried_rice/1200965.jpg  \n",
            "  inflating: train/fried_rice/1204968.jpg  \n",
            "  inflating: train/fried_rice/1205475.jpg  \n",
            "  inflating: train/fried_rice/1219625.jpg  \n",
            "  inflating: train/fried_rice/1221967.jpg  \n",
            "  inflating: train/fried_rice/1223362.jpg  \n",
            "  inflating: train/fried_rice/1227753.jpg  \n",
            "  inflating: train/fried_rice/1232786.jpg  \n",
            "  inflating: train/fried_rice/1236551.jpg  \n",
            "  inflating: train/fried_rice/1238741.jpg  \n",
            "  inflating: train/fried_rice/1239724.jpg  \n",
            "  inflating: train/fried_rice/1240836.jpg  \n",
            "  inflating: train/fried_rice/1242614.jpg  \n",
            "  inflating: train/fried_rice/1250145.jpg  \n",
            "  inflating: train/fried_rice/1252290.jpg  \n",
            "  inflating: train/fried_rice/1252555.jpg  \n",
            "  inflating: train/fried_rice/1252624.jpg  \n",
            "  inflating: train/fried_rice/1260082.jpg  \n",
            "  inflating: train/fried_rice/1264045.jpg  \n",
            "  inflating: train/fried_rice/1264193.jpg  \n",
            "  inflating: train/fried_rice/1267123.jpg  \n",
            "  inflating: train/fried_rice/1268221.jpg  \n",
            "  inflating: train/fried_rice/1270775.jpg  \n",
            "  inflating: train/fried_rice/1273265.jpg  \n",
            "  inflating: train/fried_rice/1273788.jpg  \n",
            "  inflating: train/fried_rice/1275402.jpg  \n",
            "  inflating: train/fried_rice/1276635.jpg  \n",
            "  inflating: train/fried_rice/1279146.jpg  \n",
            "  inflating: train/fried_rice/1281471.jpg  \n",
            "  inflating: train/fried_rice/1285028.jpg  \n",
            "  inflating: train/fried_rice/1291911.jpg  \n",
            "  inflating: train/fried_rice/1299959.jpg  \n",
            "  inflating: train/fried_rice/1304492.jpg  \n",
            "  inflating: train/fried_rice/1308693.jpg  \n",
            "  inflating: train/fried_rice/1311992.jpg  \n",
            "  inflating: train/fried_rice/1315188.jpg  \n",
            "  inflating: train/fried_rice/1315272.jpg  \n",
            "  inflating: train/fried_rice/1320853.jpg  \n",
            "  inflating: train/fried_rice/1322486.jpg  \n",
            "  inflating: train/fried_rice/1323164.jpg  \n",
            "  inflating: train/fried_rice/1323603.jpg  \n",
            "  inflating: train/fried_rice/1326227.jpg  \n",
            "  inflating: train/fried_rice/1327608.jpg  \n",
            "  inflating: train/fried_rice/1332728.jpg  \n",
            "  inflating: train/fried_rice/1337950.jpg  \n",
            "  inflating: train/fried_rice/1342147.jpg  \n",
            "  inflating: train/fried_rice/1342915.jpg  \n",
            "  inflating: train/fried_rice/1347068.jpg  \n",
            "  inflating: train/fried_rice/1350680.jpg  \n",
            "  inflating: train/fried_rice/1352844.jpg  \n",
            "  inflating: train/fried_rice/1359579.jpg  \n",
            "  inflating: train/fried_rice/1369712.jpg  \n",
            "  inflating: train/fried_rice/1371144.jpg  \n",
            "  inflating: train/fried_rice/1378321.jpg  \n",
            "  inflating: train/fried_rice/1386213.jpg  \n",
            "  inflating: train/fried_rice/1396018.jpg  \n",
            "  inflating: train/fried_rice/1398971.jpg  \n",
            "  inflating: train/fried_rice/1410901.jpg  \n",
            "  inflating: train/fried_rice/1413342.jpg  \n",
            "  inflating: train/fried_rice/1413623.jpg  \n",
            "  inflating: train/fried_rice/1418429.jpg  \n",
            "  inflating: train/fried_rice/1420205.jpg  \n",
            "  inflating: train/fried_rice/1421149.jpg  \n",
            "  inflating: train/fried_rice/1424556.jpg  \n",
            "  inflating: train/fried_rice/1425788.jpg  \n",
            "  inflating: train/fried_rice/1425856.jpg  \n",
            "  inflating: train/fried_rice/1429619.jpg  \n",
            "  inflating: train/fried_rice/1441821.jpg  \n",
            "  inflating: train/fried_rice/1459383.jpg  \n",
            "  inflating: train/fried_rice/1461091.jpg  \n",
            "  inflating: train/fried_rice/1462353.jpg  \n",
            "  inflating: train/fried_rice/1474238.jpg  \n",
            "  inflating: train/fried_rice/1474319.jpg  \n",
            "  inflating: train/fried_rice/1477942.jpg  \n",
            "  inflating: train/fried_rice/1479896.jpg  \n",
            "  inflating: train/fried_rice/1483637.jpg  \n",
            "  inflating: train/fried_rice/1485200.jpg  \n",
            "  inflating: train/fried_rice/1485845.jpg  \n",
            "  inflating: train/fried_rice/1494763.jpg  \n",
            "  inflating: train/fried_rice/1495826.jpg  \n",
            "  inflating: train/fried_rice/1500998.jpg  \n",
            "  inflating: train/fried_rice/1501533.jpg  \n",
            "  inflating: train/fried_rice/1502533.jpg  \n",
            "  inflating: train/fried_rice/1513264.jpg  \n",
            "  inflating: train/fried_rice/1528395.jpg  \n",
            "  inflating: train/fried_rice/1530515.jpg  \n",
            "  inflating: train/fried_rice/1534541.jpg  \n",
            "  inflating: train/fried_rice/1536220.jpg  \n",
            "  inflating: train/fried_rice/1536297.jpg  \n",
            "  inflating: train/fried_rice/1543399.jpg  \n",
            "  inflating: train/fried_rice/1547090.jpg  \n",
            "  inflating: train/fried_rice/1550927.jpg  \n",
            "  inflating: train/fried_rice/1555459.jpg  \n",
            "  inflating: train/fried_rice/1558109.jpg  \n",
            "  inflating: train/fried_rice/1568644.jpg  \n",
            "  inflating: train/fried_rice/1582964.jpg  \n",
            "  inflating: train/fried_rice/1587304.jpg  \n",
            "  inflating: train/fried_rice/1590903.jpg  \n",
            "  inflating: train/fried_rice/1594728.jpg  \n",
            "  inflating: train/fried_rice/1598757.jpg  \n",
            "  inflating: train/fried_rice/1599386.jpg  \n",
            "  inflating: train/fried_rice/1599684.jpg  \n",
            "  inflating: train/fried_rice/1610064.jpg  \n",
            "  inflating: train/fried_rice/1611074.jpg  \n",
            "  inflating: train/fried_rice/1615464.jpg  \n",
            "  inflating: train/fried_rice/1620327.jpg  \n",
            "  inflating: train/fried_rice/1628584.jpg  \n",
            "  inflating: train/fried_rice/1638920.jpg  \n",
            "  inflating: train/fried_rice/1641476.jpg  \n",
            "  inflating: train/fried_rice/1642598.jpg  \n",
            "  inflating: train/fried_rice/1643460.jpg  \n",
            "  inflating: train/fried_rice/1644168.jpg  \n",
            "  inflating: train/fried_rice/1650776.jpg  \n",
            "  inflating: train/fried_rice/1652779.jpg  \n",
            "  inflating: train/fried_rice/1656326.jpg  \n",
            "  inflating: train/fried_rice/1657193.jpg  \n",
            "  inflating: train/fried_rice/1658056.jpg  \n",
            "  inflating: train/fried_rice/1658586.jpg  \n",
            "  inflating: train/fried_rice/1660334.jpg  \n",
            "  inflating: train/fried_rice/1663986.jpg  \n",
            "  inflating: train/fried_rice/1668806.jpg  \n",
            "  inflating: train/fried_rice/1674243.jpg  \n",
            "  inflating: train/fried_rice/1677058.jpg  \n",
            "  inflating: train/fried_rice/1680339.jpg  \n",
            "  inflating: train/fried_rice/1684110.jpg  \n",
            "  inflating: train/fried_rice/1689673.jpg  \n",
            "  inflating: train/fried_rice/1690547.jpg  \n",
            "  inflating: train/fried_rice/1691031.jpg  \n",
            "  inflating: train/fried_rice/1702091.jpg  \n",
            "  inflating: train/fried_rice/1704202.jpg  \n",
            "  inflating: train/fried_rice/1708048.jpg  \n",
            "  inflating: train/fried_rice/1708466.jpg  \n",
            "  inflating: train/fried_rice/1721116.jpg  \n",
            "  inflating: train/fried_rice/1725166.jpg  \n",
            "  inflating: train/fried_rice/1727509.jpg  \n",
            "  inflating: train/fried_rice/1746972.jpg  \n",
            "  inflating: train/fried_rice/1757775.jpg  \n",
            "  inflating: train/fried_rice/1766302.jpg  \n",
            "  inflating: train/fried_rice/1769168.jpg  \n",
            "  inflating: train/fried_rice/1769710.jpg  \n",
            "  inflating: train/fried_rice/1771237.jpg  \n",
            "  inflating: train/fried_rice/1774109.jpg  \n",
            "  inflating: train/fried_rice/1784142.jpg  \n",
            "  inflating: train/fried_rice/1785218.jpg  \n",
            "  inflating: train/fried_rice/1787072.jpg  \n",
            "  inflating: train/fried_rice/1787793.jpg  \n",
            "  inflating: train/fried_rice/1790059.jpg  \n",
            "  inflating: train/fried_rice/1796033.jpg  \n",
            "  inflating: train/fried_rice/1800752.jpg  \n",
            "  inflating: train/fried_rice/1802083.jpg  \n",
            "  inflating: train/fried_rice/1802914.jpg  \n",
            "  inflating: train/fried_rice/1807202.jpg  \n",
            "  inflating: train/fried_rice/1815423.jpg  \n",
            "  inflating: train/fried_rice/1822700.jpg  \n",
            "  inflating: train/fried_rice/1830900.jpg  \n",
            "  inflating: train/fried_rice/1844662.jpg  \n",
            "  inflating: train/fried_rice/1847534.jpg  \n",
            "  inflating: train/fried_rice/1848512.jpg  \n",
            "  inflating: train/fried_rice/1855149.jpg  \n",
            "  inflating: train/fried_rice/1856727.jpg  \n",
            "  inflating: train/fried_rice/1857228.jpg  \n",
            "  inflating: train/fried_rice/1859179.jpg  \n",
            "  inflating: train/fried_rice/1862854.jpg  \n",
            "  inflating: train/fried_rice/1865222.jpg  \n",
            "  inflating: train/fried_rice/1865368.jpg  \n",
            "  inflating: train/fried_rice/1868701.jpg  \n",
            "  inflating: train/fried_rice/1868954.jpg  \n",
            "  inflating: train/fried_rice/1873816.jpg  \n",
            "  inflating: train/fried_rice/1874287.jpg  \n",
            "  inflating: train/fried_rice/1884122.jpg  \n",
            "  inflating: train/fried_rice/1887769.jpg  \n",
            "  inflating: train/fried_rice/1893981.jpg  \n",
            "  inflating: train/fried_rice/1897829.jpg  \n",
            "  inflating: train/fried_rice/1904084.jpg  \n",
            "  inflating: train/fried_rice/1904676.jpg  \n",
            "  inflating: train/fried_rice/1907377.jpg  \n",
            "  inflating: train/fried_rice/1911564.jpg  \n",
            "  inflating: train/fried_rice/1914452.jpg  \n",
            "  inflating: train/fried_rice/1914921.jpg  \n",
            "  inflating: train/fried_rice/1915049.jpg  \n",
            "  inflating: train/fried_rice/1916209.jpg  \n",
            "  inflating: train/fried_rice/1916297.jpg  \n",
            "  inflating: train/fried_rice/1916330.jpg  \n",
            "  inflating: train/fried_rice/1918058.jpg  \n",
            "  inflating: train/fried_rice/1937854.jpg  \n",
            "  inflating: train/fried_rice/1941371.jpg  \n",
            "  inflating: train/fried_rice/1941850.jpg  \n",
            "  inflating: train/fried_rice/1942029.jpg  \n",
            "  inflating: train/fried_rice/1946864.jpg  \n",
            "  inflating: train/fried_rice/1953933.jpg  \n",
            "  inflating: train/fried_rice/1972338.jpg  \n",
            "  inflating: train/fried_rice/1980195.jpg  \n",
            "  inflating: train/fried_rice/1983989.jpg  \n",
            "  inflating: train/fried_rice/1986419.jpg  \n",
            "  inflating: train/fried_rice/1988551.jpg  \n",
            "  inflating: train/fried_rice/1993160.jpg  \n",
            "  inflating: train/fried_rice/1993926.jpg  \n",
            "  inflating: train/fried_rice/1995508.jpg  \n",
            "  inflating: train/fried_rice/2002746.jpg  \n",
            "  inflating: train/fried_rice/2004848.jpg  \n",
            "  inflating: train/fried_rice/2007744.jpg  \n",
            "  inflating: train/fried_rice/2009382.jpg  \n",
            "  inflating: train/fried_rice/2022596.jpg  \n",
            "  inflating: train/fried_rice/2022629.jpg  \n",
            "  inflating: train/fried_rice/2028743.jpg  \n",
            "  inflating: train/fried_rice/2029077.jpg  \n",
            "  inflating: train/fried_rice/2030967.jpg  \n",
            "  inflating: train/fried_rice/2031177.jpg  \n",
            "  inflating: train/fried_rice/2040235.jpg  \n",
            "  inflating: train/fried_rice/2043314.jpg  \n",
            "  inflating: train/fried_rice/2046048.jpg  \n",
            "  inflating: train/fried_rice/2053002.jpg  \n",
            "  inflating: train/fried_rice/2059585.jpg  \n",
            "  inflating: train/fried_rice/2060946.jpg  \n",
            "  inflating: train/fried_rice/2063864.jpg  \n",
            "  inflating: train/fried_rice/2066494.jpg  \n",
            "  inflating: train/fried_rice/2069340.jpg  \n",
            "  inflating: train/fried_rice/2070073.jpg  \n",
            "  inflating: train/fried_rice/2075655.jpg  \n",
            "  inflating: train/fried_rice/2078444.jpg  \n",
            "  inflating: train/fried_rice/2078562.jpg  \n",
            "  inflating: train/fried_rice/2079653.jpg  \n",
            "  inflating: train/fried_rice/2100590.jpg  \n",
            "  inflating: train/fried_rice/2104841.jpg  \n",
            "  inflating: train/fried_rice/2132017.jpg  \n",
            "  inflating: train/fried_rice/2134358.jpg  \n",
            "  inflating: train/fried_rice/2136311.jpg  \n",
            "  inflating: train/fried_rice/2150469.jpg  \n",
            "  inflating: train/fried_rice/2158503.jpg  \n",
            "  inflating: train/fried_rice/2164783.jpg  \n",
            "  inflating: train/fried_rice/2164813.jpg  \n",
            "  inflating: train/fried_rice/2168957.jpg  \n",
            "  inflating: train/fried_rice/2180004.jpg  \n",
            "  inflating: train/fried_rice/2183620.jpg  \n",
            "  inflating: train/fried_rice/2184952.jpg  \n",
            "  inflating: train/fried_rice/2185524.jpg  \n",
            "  inflating: train/fried_rice/2186269.jpg  \n",
            "  inflating: train/fried_rice/2194249.jpg  \n",
            "  inflating: train/fried_rice/2196951.jpg  \n",
            "  inflating: train/fried_rice/2197875.jpg  \n",
            "  inflating: train/fried_rice/2198043.jpg  \n",
            "  inflating: train/fried_rice/2198372.jpg  \n",
            "  inflating: train/fried_rice/2199139.jpg  \n",
            "  inflating: train/fried_rice/2201308.jpg  \n",
            "  inflating: train/fried_rice/2201699.jpg  \n",
            "  inflating: train/fried_rice/2202601.jpg  \n",
            "  inflating: train/fried_rice/2206557.jpg  \n",
            "  inflating: train/fried_rice/2207125.jpg  \n",
            "  inflating: train/fried_rice/2213474.jpg  \n",
            "  inflating: train/fried_rice/2218856.jpg  \n",
            "  inflating: train/fried_rice/2222570.jpg  \n",
            "  inflating: train/fried_rice/2228256.jpg  \n",
            "  inflating: train/fried_rice/2228567.jpg  \n",
            "  inflating: train/fried_rice/2246450.jpg  \n",
            "  inflating: train/fried_rice/2258653.jpg  \n",
            "  inflating: train/fried_rice/2259766.jpg  \n",
            "  inflating: train/fried_rice/2261572.jpg  \n",
            "  inflating: train/fried_rice/2263878.jpg  \n",
            "  inflating: train/fried_rice/2264579.jpg  \n",
            "  inflating: train/fried_rice/2268242.jpg  \n",
            "  inflating: train/fried_rice/2268562.jpg  \n",
            "  inflating: train/fried_rice/2284461.jpg  \n",
            "  inflating: train/fried_rice/2284703.jpg  \n",
            "  inflating: train/fried_rice/2285680.jpg  \n",
            "  inflating: train/fried_rice/2286411.jpg  \n",
            "  inflating: train/fried_rice/2288144.jpg  \n",
            "  inflating: train/fried_rice/2289902.jpg  \n",
            "  inflating: train/fried_rice/2294835.jpg  \n",
            "  inflating: train/fried_rice/2295134.jpg  \n",
            "  inflating: train/fried_rice/2302531.jpg  \n",
            "  inflating: train/fried_rice/2304195.jpg  \n",
            "  inflating: train/fried_rice/2304386.jpg  \n",
            "  inflating: train/fried_rice/2306236.jpg  \n",
            "  inflating: train/fried_rice/2311478.jpg  \n",
            "  inflating: train/fried_rice/2318938.jpg  \n",
            "  inflating: train/fried_rice/2324387.jpg  \n",
            "  inflating: train/fried_rice/2332974.jpg  \n",
            "  inflating: train/fried_rice/2333382.jpg  \n",
            "  inflating: train/fried_rice/2333820.jpg  \n",
            "  inflating: train/fried_rice/2334735.jpg  \n",
            "  inflating: train/fried_rice/2340054.jpg  \n",
            "  inflating: train/fried_rice/2346099.jpg  \n",
            "  inflating: train/fried_rice/2349818.jpg  \n",
            "  inflating: train/fried_rice/2355288.jpg  \n",
            "  inflating: train/fried_rice/2355588.jpg  \n",
            "  inflating: train/fried_rice/2368350.jpg  \n",
            "  inflating: train/fried_rice/2378749.jpg  \n",
            "  inflating: train/fried_rice/2382104.jpg  \n",
            "  inflating: train/fried_rice/2384198.jpg  \n",
            "  inflating: train/fried_rice/2386243.jpg  \n",
            "  inflating: train/fried_rice/2390079.jpg  \n",
            "  inflating: train/fried_rice/2394276.jpg  \n",
            "  inflating: train/fried_rice/2406661.jpg  \n",
            "  inflating: train/fried_rice/2407861.jpg  \n",
            "  inflating: train/fried_rice/2413693.jpg  \n",
            "  inflating: train/fried_rice/2415664.jpg  \n",
            "  inflating: train/fried_rice/2419114.jpg  \n",
            "  inflating: train/fried_rice/2426857.jpg  \n",
            "  inflating: train/fried_rice/2427279.jpg  \n",
            "  inflating: train/fried_rice/2427442.jpg  \n",
            "  inflating: train/fried_rice/2431195.jpg  \n",
            "  inflating: train/fried_rice/2436671.jpg  \n",
            "  inflating: train/fried_rice/2438092.jpg  \n",
            "  inflating: train/fried_rice/2453309.jpg  \n",
            "  inflating: train/fried_rice/2459608.jpg  \n",
            "  inflating: train/fried_rice/2461057.jpg  \n",
            "  inflating: train/fried_rice/2463616.jpg  \n",
            "  inflating: train/fried_rice/2468036.jpg  \n",
            "  inflating: train/fried_rice/2469269.jpg  \n",
            "  inflating: train/fried_rice/2477863.jpg  \n",
            "  inflating: train/fried_rice/2479165.jpg  \n",
            "  inflating: train/fried_rice/2484044.jpg  \n",
            "  inflating: train/fried_rice/2491148.jpg  \n",
            "  inflating: train/fried_rice/2493844.jpg  \n",
            "  inflating: train/fried_rice/2499116.jpg  \n",
            "  inflating: train/fried_rice/2499465.jpg  \n",
            "  inflating: train/fried_rice/2507071.jpg  \n",
            "  inflating: train/fried_rice/2513549.jpg  \n",
            "  inflating: train/fried_rice/2514871.jpg  \n",
            "  inflating: train/fried_rice/2517599.jpg  \n",
            "  inflating: train/fried_rice/2518527.jpg  \n",
            "  inflating: train/fried_rice/2518775.jpg  \n",
            "  inflating: train/fried_rice/2518927.jpg  \n",
            "  inflating: train/fried_rice/2521567.jpg  \n",
            "  inflating: train/fried_rice/2521777.jpg  \n",
            "  inflating: train/fried_rice/2523524.jpg  \n",
            "  inflating: train/fried_rice/2530531.jpg  \n",
            "  inflating: train/fried_rice/2543786.jpg  \n",
            "  inflating: train/fried_rice/2543815.jpg  \n",
            "  inflating: train/fried_rice/2548475.jpg  \n",
            "  inflating: train/fried_rice/2552407.jpg  \n",
            "  inflating: train/fried_rice/2553117.jpg  \n",
            "  inflating: train/fried_rice/2560518.jpg  \n",
            "  inflating: train/fried_rice/2562549.jpg  \n",
            "  inflating: train/fried_rice/2562929.jpg  \n",
            "  inflating: train/fried_rice/2565274.jpg  \n",
            "  inflating: train/fried_rice/2568832.jpg  \n",
            "  inflating: train/fried_rice/2569230.jpg  \n",
            "  inflating: train/fried_rice/2574523.jpg  \n",
            "  inflating: train/fried_rice/2576877.jpg  \n",
            "  inflating: train/fried_rice/2583764.jpg  \n",
            "  inflating: train/fried_rice/2583965.jpg  \n",
            "  inflating: train/fried_rice/2588659.jpg  \n",
            "  inflating: train/fried_rice/2591995.jpg  \n",
            "  inflating: train/fried_rice/2595725.jpg  \n",
            "  inflating: train/fried_rice/2597578.jpg  \n",
            "  inflating: train/fried_rice/2598868.jpg  \n",
            "  inflating: train/fried_rice/2600361.jpg  \n",
            "  inflating: train/fried_rice/2601452.jpg  \n",
            "  inflating: train/fried_rice/2605626.jpg  \n",
            "  inflating: train/fried_rice/2606583.jpg  \n",
            "  inflating: train/fried_rice/2632284.jpg  \n",
            "  inflating: train/fried_rice/2642533.jpg  \n",
            "  inflating: train/fried_rice/2648223.jpg  \n",
            "  inflating: train/fried_rice/2649928.jpg  \n",
            "  inflating: train/fried_rice/2653265.jpg  \n",
            "  inflating: train/fried_rice/2656308.jpg  \n",
            "  inflating: train/fried_rice/2659722.jpg  \n",
            "  inflating: train/fried_rice/2664070.jpg  \n",
            "  inflating: train/fried_rice/2677278.jpg  \n",
            "  inflating: train/fried_rice/2679144.jpg  \n",
            "  inflating: train/fried_rice/2680271.jpg  \n",
            "  inflating: train/fried_rice/2686657.jpg  \n",
            "  inflating: train/fried_rice/2692504.jpg  \n",
            "  inflating: train/fried_rice/2693789.jpg  \n",
            "  inflating: train/fried_rice/2696016.jpg  \n",
            "  inflating: train/fried_rice/2697127.jpg  \n",
            "  inflating: train/fried_rice/2697544.jpg  \n",
            "  inflating: train/fried_rice/2699717.jpg  \n",
            "  inflating: train/fried_rice/2699922.jpg  \n",
            "  inflating: train/fried_rice/2701185.jpg  \n",
            "  inflating: train/fried_rice/2704782.jpg  \n",
            "  inflating: train/fried_rice/2708845.jpg  \n",
            "  inflating: train/fried_rice/2713799.jpg  \n",
            "  inflating: train/fried_rice/2714150.jpg  \n",
            "  inflating: train/fried_rice/2717564.jpg  \n",
            "  inflating: train/fried_rice/2726286.jpg  \n",
            "  inflating: train/fried_rice/2732316.jpg  \n",
            "  inflating: train/fried_rice/2735077.jpg  \n",
            "  inflating: train/fried_rice/2735232.jpg  \n",
            "  inflating: train/fried_rice/2737668.jpg  \n",
            "  inflating: train/fried_rice/2741242.jpg  \n",
            "  inflating: train/fried_rice/2743689.jpg  \n",
            "  inflating: train/fried_rice/275223.jpg  \n",
            "  inflating: train/fried_rice/275531.jpg  \n",
            "  inflating: train/fried_rice/2755395.jpg  \n",
            "  inflating: train/fried_rice/2763606.jpg  \n",
            "  inflating: train/fried_rice/277204.jpg  \n",
            "  inflating: train/fried_rice/2773061.jpg  \n",
            "  inflating: train/fried_rice/277516.jpg  \n",
            "  inflating: train/fried_rice/2779255.jpg  \n",
            "  inflating: train/fried_rice/2785231.jpg  \n",
            "  inflating: train/fried_rice/2786680.jpg  \n",
            "  inflating: train/fried_rice/2787107.jpg  \n",
            "  inflating: train/fried_rice/2788321.jpg  \n",
            "  inflating: train/fried_rice/278835.jpg  \n",
            "  inflating: train/fried_rice/2792292.jpg  \n",
            "  inflating: train/fried_rice/2792317.jpg  \n",
            "  inflating: train/fried_rice/2795403.jpg  \n",
            "  inflating: train/fried_rice/2798783.jpg  \n",
            "  inflating: train/fried_rice/281009.jpg  \n",
            "  inflating: train/fried_rice/2813872.jpg  \n",
            "  inflating: train/fried_rice/2814769.jpg  \n",
            "  inflating: train/fried_rice/2814830.jpg  \n",
            "  inflating: train/fried_rice/2815046.jpg  \n",
            "  inflating: train/fried_rice/2816340.jpg  \n",
            "  inflating: train/fried_rice/2816697.jpg  \n",
            "  inflating: train/fried_rice/2817882.jpg  \n",
            "  inflating: train/fried_rice/2820757.jpg  \n",
            "  inflating: train/fried_rice/2823116.jpg  \n",
            "  inflating: train/fried_rice/2833991.jpg  \n",
            "  inflating: train/fried_rice/2834370.jpg  \n",
            "  inflating: train/fried_rice/2838127.jpg  \n",
            "  inflating: train/fried_rice/2849497.jpg  \n",
            "  inflating: train/fried_rice/2849607.jpg  \n",
            "  inflating: train/fried_rice/2850904.jpg  \n",
            "  inflating: train/fried_rice/285785.jpg  \n",
            "  inflating: train/fried_rice/2860889.jpg  \n",
            "  inflating: train/fried_rice/2867385.jpg  \n",
            "  inflating: train/fried_rice/2872060.jpg  \n",
            "  inflating: train/fried_rice/2872064.jpg  \n",
            "  inflating: train/fried_rice/2879261.jpg  \n",
            "  inflating: train/fried_rice/2883586.jpg  \n",
            "  inflating: train/fried_rice/2888901.jpg  \n",
            "  inflating: train/fried_rice/2890089.jpg  \n",
            "  inflating: train/fried_rice/2893839.jpg  \n",
            "  inflating: train/fried_rice/289532.jpg  \n",
            "  inflating: train/fried_rice/2897873.jpg  \n",
            "  inflating: train/fried_rice/2899815.jpg  \n",
            "  inflating: train/fried_rice/2900064.jpg  \n",
            "  inflating: train/fried_rice/2906721.jpg  \n",
            "  inflating: train/fried_rice/2908039.jpg  \n",
            "  inflating: train/fried_rice/291296.jpg  \n",
            "  inflating: train/fried_rice/2915617.jpg  \n",
            "  inflating: train/fried_rice/292043.jpg  \n",
            "  inflating: train/fried_rice/2928684.jpg  \n",
            "  inflating: train/fried_rice/2930057.jpg  \n",
            "  inflating: train/fried_rice/2934149.jpg  \n",
            "  inflating: train/fried_rice/293560.jpg  \n",
            "  inflating: train/fried_rice/2938659.jpg  \n",
            "  inflating: train/fried_rice/2940418.jpg  \n",
            "  inflating: train/fried_rice/2943239.jpg  \n",
            "  inflating: train/fried_rice/2947946.jpg  \n",
            "  inflating: train/fried_rice/2956715.jpg  \n",
            "  inflating: train/fried_rice/2965537.jpg  \n",
            "  inflating: train/fried_rice/2968258.jpg  \n",
            "  inflating: train/fried_rice/2973781.jpg  \n",
            "  inflating: train/fried_rice/2980189.jpg  \n",
            "  inflating: train/fried_rice/2982087.jpg  \n",
            "  inflating: train/fried_rice/2984337.jpg  \n",
            "  inflating: train/fried_rice/2986320.jpg  \n",
            "  inflating: train/fried_rice/2990769.jpg  \n",
            "  inflating: train/fried_rice/2993049.jpg  \n",
            "  inflating: train/fried_rice/2993142.jpg  \n",
            "  inflating: train/fried_rice/2993325.jpg  \n",
            "  inflating: train/fried_rice/299653.jpg  \n",
            "  inflating: train/fried_rice/299732.jpg  \n",
            "  inflating: train/fried_rice/2998402.jpg  \n",
            "  inflating: train/fried_rice/301083.jpg  \n",
            "  inflating: train/fried_rice/3013414.jpg  \n",
            "  inflating: train/fried_rice/3017279.jpg  \n",
            "  inflating: train/fried_rice/3021223.jpg  \n",
            "  inflating: train/fried_rice/3026143.jpg  \n",
            "  inflating: train/fried_rice/3034238.jpg  \n",
            "  inflating: train/fried_rice/3037551.jpg  \n",
            "  inflating: train/fried_rice/3040518.jpg  \n",
            "  inflating: train/fried_rice/3040520.jpg  \n",
            "  inflating: train/fried_rice/3043716.jpg  \n",
            "  inflating: train/fried_rice/3046273.jpg  \n",
            "  inflating: train/fried_rice/3048126.jpg  \n",
            "  inflating: train/fried_rice/3048520.jpg  \n",
            "  inflating: train/fried_rice/3048710.jpg  \n",
            "  inflating: train/fried_rice/3052175.jpg  \n",
            "  inflating: train/fried_rice/3057554.jpg  \n",
            "  inflating: train/fried_rice/306197.jpg  \n",
            "  inflating: train/fried_rice/306301.jpg  \n",
            "  inflating: train/fried_rice/3065049.jpg  \n",
            "  inflating: train/fried_rice/306519.jpg  \n",
            "  inflating: train/fried_rice/3073432.jpg  \n",
            "  inflating: train/fried_rice/3081971.jpg  \n",
            "  inflating: train/fried_rice/3084629.jpg  \n",
            "  inflating: train/fried_rice/3098463.jpg  \n",
            "  inflating: train/fried_rice/3105558.jpg  \n",
            "  inflating: train/fried_rice/3113202.jpg  \n",
            "  inflating: train/fried_rice/3117933.jpg  \n",
            "  inflating: train/fried_rice/3125420.jpg  \n",
            "  inflating: train/fried_rice/3131483.jpg  \n",
            "  inflating: train/fried_rice/3134947.jpg  \n",
            "  inflating: train/fried_rice/3138199.jpg  \n",
            "  inflating: train/fried_rice/3140384.jpg  \n",
            "  inflating: train/fried_rice/3141683.jpg  \n",
            "  inflating: train/fried_rice/3142588.jpg  \n",
            "  inflating: train/fried_rice/3144281.jpg  \n",
            "  inflating: train/fried_rice/3144923.jpg  \n",
            "  inflating: train/fried_rice/3148612.jpg  \n",
            "  inflating: train/fried_rice/3150031.jpg  \n",
            "  inflating: train/fried_rice/3154008.jpg  \n",
            "  inflating: train/fried_rice/3167676.jpg  \n",
            "  inflating: train/fried_rice/3176167.jpg  \n",
            "  inflating: train/fried_rice/3176941.jpg  \n",
            "  inflating: train/fried_rice/317751.jpg  \n",
            "  inflating: train/fried_rice/317760.jpg  \n",
            "  inflating: train/fried_rice/3179912.jpg  \n",
            "  inflating: train/fried_rice/318375.jpg  \n",
            "  inflating: train/fried_rice/318527.jpg  \n",
            "  inflating: train/fried_rice/3193475.jpg  \n",
            "  inflating: train/fried_rice/3199826.jpg  \n",
            "  inflating: train/fried_rice/320052.jpg  \n",
            "  inflating: train/fried_rice/3205362.jpg  \n",
            "  inflating: train/fried_rice/3205545.jpg  \n",
            "  inflating: train/fried_rice/3205607.jpg  \n",
            "  inflating: train/fried_rice/3213843.jpg  \n",
            "  inflating: train/fried_rice/3225155.jpg  \n",
            "  inflating: train/fried_rice/3225799.jpg  \n",
            "  inflating: train/fried_rice/3227558.jpg  \n",
            "  inflating: train/fried_rice/3232892.jpg  \n",
            "  inflating: train/fried_rice/3235070.jpg  \n",
            "  inflating: train/fried_rice/3237595.jpg  \n",
            "  inflating: train/fried_rice/3239945.jpg  \n",
            "  inflating: train/fried_rice/3241577.jpg  \n",
            "  inflating: train/fried_rice/3254257.jpg  \n",
            "  inflating: train/fried_rice/3260455.jpg  \n",
            "  inflating: train/fried_rice/3263873.jpg  \n",
            "  inflating: train/fried_rice/3264111.jpg  \n",
            "  inflating: train/fried_rice/3265796.jpg  \n",
            "  inflating: train/fried_rice/3276603.jpg  \n",
            "  inflating: train/fried_rice/3277325.jpg  \n",
            "  inflating: train/fried_rice/3277448.jpg  \n",
            "  inflating: train/fried_rice/3281629.jpg  \n",
            "  inflating: train/fried_rice/3286513.jpg  \n",
            "  inflating: train/fried_rice/3287274.jpg  \n",
            "  inflating: train/fried_rice/3295993.jpg  \n",
            "  inflating: train/fried_rice/329692.jpg  \n",
            "  inflating: train/fried_rice/3297783.jpg  \n",
            "  inflating: train/fried_rice/3298068.jpg  \n",
            "  inflating: train/fried_rice/331282.jpg  \n",
            "  inflating: train/fried_rice/332068.jpg  \n",
            "  inflating: train/fried_rice/3321202.jpg  \n",
            "  inflating: train/fried_rice/332814.jpg  \n",
            "  inflating: train/fried_rice/3331049.jpg  \n",
            "  inflating: train/fried_rice/3331345.jpg  \n",
            "  inflating: train/fried_rice/3333149.jpg  \n",
            "  inflating: train/fried_rice/333315.jpg  \n",
            "  inflating: train/fried_rice/3334889.jpg  \n",
            "  inflating: train/fried_rice/3335625.jpg  \n",
            "  inflating: train/fried_rice/3337662.jpg  \n",
            "  inflating: train/fried_rice/335773.jpg  \n",
            "  inflating: train/fried_rice/3359397.jpg  \n",
            "  inflating: train/fried_rice/3366633.jpg  \n",
            "  inflating: train/fried_rice/3367571.jpg  \n",
            "  inflating: train/fried_rice/3370219.jpg  \n",
            "  inflating: train/fried_rice/3374940.jpg  \n",
            "  inflating: train/fried_rice/338763.jpg  \n",
            "  inflating: train/fried_rice/3387843.jpg  \n",
            "  inflating: train/fried_rice/3393002.jpg  \n",
            "  inflating: train/fried_rice/3396256.jpg  \n",
            "  inflating: train/fried_rice/3400029.jpg  \n",
            "  inflating: train/fried_rice/3400112.jpg  \n",
            "  inflating: train/fried_rice/3402627.jpg  \n",
            "  inflating: train/fried_rice/340781.jpg  \n",
            "  inflating: train/fried_rice/3407923.jpg  \n",
            "  inflating: train/fried_rice/341581.jpg  \n",
            "  inflating: train/fried_rice/3421855.jpg  \n",
            "  inflating: train/fried_rice/3423266.jpg  \n",
            "  inflating: train/fried_rice/3425196.jpg  \n",
            "  inflating: train/fried_rice/3434228.jpg  \n",
            "  inflating: train/fried_rice/3436140.jpg  \n",
            "  inflating: train/fried_rice/3438186.jpg  \n",
            "  inflating: train/fried_rice/3447493.jpg  \n",
            "  inflating: train/fried_rice/3448498.jpg  \n",
            "  inflating: train/fried_rice/3450068.jpg  \n",
            "  inflating: train/fried_rice/3450385.jpg  \n",
            "  inflating: train/fried_rice/3464182.jpg  \n",
            "  inflating: train/fried_rice/3464606.jpg  \n",
            "  inflating: train/fried_rice/3469839.jpg  \n",
            "  inflating: train/fried_rice/3471388.jpg  \n",
            "  inflating: train/fried_rice/348217.jpg  \n",
            "  inflating: train/fried_rice/3505531.jpg  \n",
            "  inflating: train/fried_rice/350555.jpg  \n",
            "  inflating: train/fried_rice/3509562.jpg  \n",
            "  inflating: train/fried_rice/3510012.jpg  \n",
            "  inflating: train/fried_rice/3514266.jpg  \n",
            "  inflating: train/fried_rice/355445.jpg  \n",
            "  inflating: train/fried_rice/357481.jpg  \n",
            "  inflating: train/fried_rice/358748.jpg  \n",
            "  inflating: train/fried_rice/359738.jpg  \n",
            "  inflating: train/fried_rice/363240.jpg  \n",
            "  inflating: train/fried_rice/365668.jpg  \n",
            "  inflating: train/fried_rice/367495.jpg  \n",
            "  inflating: train/fried_rice/368173.jpg  \n",
            "  inflating: train/fried_rice/376354.jpg  \n",
            "  inflating: train/fried_rice/376861.jpg  \n",
            "  inflating: train/fried_rice/378960.jpg  \n",
            "  inflating: train/fried_rice/395844.jpg  \n",
            "  inflating: train/fried_rice/397323.jpg  \n",
            "  inflating: train/fried_rice/399532.jpg  \n",
            "  inflating: train/fried_rice/399857.jpg  \n",
            "  inflating: train/fried_rice/400745.jpg  \n",
            "  inflating: train/fried_rice/406181.jpg  \n",
            "  inflating: train/fried_rice/407191.jpg  \n",
            "  inflating: train/fried_rice/414486.jpg  \n",
            "  inflating: train/fried_rice/415170.jpg  \n",
            "  inflating: train/fried_rice/415323.jpg  \n",
            "  inflating: train/fried_rice/416279.jpg  \n",
            "  inflating: train/fried_rice/419808.jpg  \n",
            "  inflating: train/fried_rice/421911.jpg  \n",
            "  inflating: train/fried_rice/422153.jpg  \n",
            "  inflating: train/fried_rice/423531.jpg  \n",
            "  inflating: train/fried_rice/423763.jpg  \n",
            "  inflating: train/fried_rice/424164.jpg  \n",
            "  inflating: train/fried_rice/424836.jpg  \n",
            "  inflating: train/fried_rice/438768.jpg  \n",
            "  inflating: train/fried_rice/441512.jpg  \n",
            "  inflating: train/fried_rice/443678.jpg  \n",
            "  inflating: train/fried_rice/448296.jpg  \n",
            "  inflating: train/fried_rice/453052.jpg  \n",
            "  inflating: train/fried_rice/461757.jpg  \n",
            "  inflating: train/fried_rice/463930.jpg  \n",
            "  inflating: train/fried_rice/465747.jpg  \n",
            "  inflating: train/fried_rice/473332.jpg  \n",
            "  inflating: train/fried_rice/477072.jpg  \n",
            "  inflating: train/fried_rice/478300.jpg  \n",
            "  inflating: train/fried_rice/480064.jpg  \n",
            "  inflating: train/fried_rice/480957.jpg  \n",
            "  inflating: train/fried_rice/484042.jpg  \n",
            "  inflating: train/fried_rice/490008.jpg  \n",
            "  inflating: train/fried_rice/490569.jpg  \n",
            "  inflating: train/fried_rice/492857.jpg  \n",
            "  inflating: train/fried_rice/495881.jpg  \n",
            "  inflating: train/fried_rice/496908.jpg  \n",
            "  inflating: train/fried_rice/496986.jpg  \n",
            "  inflating: train/fried_rice/497613.jpg  \n",
            "  inflating: train/fried_rice/497639.jpg  \n",
            "  inflating: train/fried_rice/502795.jpg  \n",
            "  inflating: train/fried_rice/511711.jpg  \n",
            "  inflating: train/fried_rice/515907.jpg  \n",
            "  inflating: train/fried_rice/518453.jpg  \n",
            "  inflating: train/fried_rice/523116.jpg  \n",
            "  inflating: train/fried_rice/523739.jpg  \n",
            "  inflating: train/fried_rice/528541.jpg  \n",
            "  inflating: train/fried_rice/534488.jpg  \n",
            "  inflating: train/fried_rice/538037.jpg  \n",
            "  inflating: train/fried_rice/540673.jpg  \n",
            "  inflating: train/fried_rice/545881.jpg  \n",
            "  inflating: train/fried_rice/548889.jpg  \n",
            "  inflating: train/fried_rice/549585.jpg  \n",
            "  inflating: train/fried_rice/554287.jpg  \n",
            "  inflating: train/fried_rice/554919.jpg  \n",
            "  inflating: train/fried_rice/557307.jpg  \n",
            "  inflating: train/fried_rice/563356.jpg  \n",
            "  inflating: train/fried_rice/568773.jpg  \n",
            "  inflating: train/fried_rice/572384.jpg  \n",
            "  inflating: train/fried_rice/578945.jpg  \n",
            "  inflating: train/fried_rice/579876.jpg  \n",
            "  inflating: train/fried_rice/582019.jpg  \n",
            "  inflating: train/fried_rice/583326.jpg  \n",
            "  inflating: train/fried_rice/586536.jpg  \n",
            "  inflating: train/fried_rice/588118.jpg  \n",
            "  inflating: train/fried_rice/594251.jpg  \n",
            "  inflating: train/fried_rice/596794.jpg  \n",
            "  inflating: train/fried_rice/606630.jpg  \n",
            "  inflating: train/fried_rice/610542.jpg  \n",
            "  inflating: train/fried_rice/611805.jpg  \n",
            "  inflating: train/fried_rice/618816.jpg  \n",
            "  inflating: train/fried_rice/628364.jpg  \n",
            "  inflating: train/fried_rice/629027.jpg  \n",
            "  inflating: train/fried_rice/635830.jpg  \n",
            "  inflating: train/fried_rice/638391.jpg  \n",
            "  inflating: train/fried_rice/647756.jpg  \n",
            "  inflating: train/fried_rice/650063.jpg  \n",
            "  inflating: train/fried_rice/650486.jpg  \n",
            "  inflating: train/fried_rice/661451.jpg  \n",
            "  inflating: train/fried_rice/661778.jpg  \n",
            "  inflating: train/fried_rice/674107.jpg  \n",
            "  inflating: train/fried_rice/680018.jpg  \n",
            "  inflating: train/fried_rice/680265.jpg  \n",
            "  inflating: train/fried_rice/695097.jpg  \n",
            "  inflating: train/fried_rice/696752.jpg  \n",
            "  inflating: train/fried_rice/704907.jpg  \n",
            "  inflating: train/fried_rice/709970.jpg  \n",
            "  inflating: train/fried_rice/713214.jpg  \n",
            "  inflating: train/fried_rice/718561.jpg  \n",
            "  inflating: train/fried_rice/720602.jpg  \n",
            "  inflating: train/fried_rice/720685.jpg  \n",
            "  inflating: train/fried_rice/725220.jpg  \n",
            "  inflating: train/fried_rice/748016.jpg  \n",
            "  inflating: train/fried_rice/760195.jpg  \n",
            "  inflating: train/fried_rice/761237.jpg  \n",
            "  inflating: train/fried_rice/766634.jpg  \n",
            "  inflating: train/fried_rice/776408.jpg  \n",
            "  inflating: train/fried_rice/777816.jpg  \n",
            "  inflating: train/fried_rice/777861.jpg  \n",
            "  inflating: train/fried_rice/781619.jpg  \n",
            "  inflating: train/fried_rice/783510.jpg  \n",
            "  inflating: train/fried_rice/786324.jpg  \n",
            "  inflating: train/fried_rice/797293.jpg  \n",
            "  inflating: train/fried_rice/802401.jpg  \n",
            "  inflating: train/fried_rice/803954.jpg  \n",
            "  inflating: train/fried_rice/805320.jpg  \n",
            "  inflating: train/fried_rice/805390.jpg  \n",
            "  inflating: train/fried_rice/816153.jpg  \n",
            "  inflating: train/fried_rice/818725.jpg  \n",
            "  inflating: train/fried_rice/820016.jpg  \n",
            "  inflating: train/fried_rice/823847.jpg  \n",
            "  inflating: train/fried_rice/829538.jpg  \n",
            "  inflating: train/fried_rice/833591.jpg  \n",
            "  inflating: train/fried_rice/833835.jpg  \n",
            "  inflating: train/fried_rice/834665.jpg  \n",
            "  inflating: train/fried_rice/838739.jpg  \n",
            "  inflating: train/fried_rice/848214.jpg  \n",
            "  inflating: train/fried_rice/852474.jpg  \n",
            "  inflating: train/fried_rice/855247.jpg  \n",
            "  inflating: train/fried_rice/862508.jpg  \n",
            "  inflating: train/fried_rice/865507.jpg  \n",
            "  inflating: train/fried_rice/870449.jpg  \n",
            "  inflating: train/fried_rice/883486.jpg  \n",
            "  inflating: train/fried_rice/883930.jpg  \n",
            "  inflating: train/fried_rice/887923.jpg  \n",
            "  inflating: train/fried_rice/894741.jpg  \n",
            "  inflating: train/fried_rice/899596.jpg  \n",
            "  inflating: train/fried_rice/901549.jpg  \n",
            "  inflating: train/fried_rice/903220.jpg  \n",
            "  inflating: train/fried_rice/905192.jpg  \n",
            "  inflating: train/fried_rice/907155.jpg  \n",
            "  inflating: train/fried_rice/919162.jpg  \n",
            "  inflating: train/fried_rice/919656.jpg  \n",
            "  inflating: train/fried_rice/919785.jpg  \n",
            "  inflating: train/fried_rice/931628.jpg  \n",
            "  inflating: train/fried_rice/931764.jpg  \n",
            "  inflating: train/fried_rice/942166.jpg  \n",
            "  inflating: train/fried_rice/954456.jpg  \n",
            "  inflating: train/fried_rice/957177.jpg  \n",
            "  inflating: train/fried_rice/963145.jpg  \n",
            "  inflating: train/fried_rice/976910.jpg  \n",
            "  inflating: train/fried_rice/977583.jpg  \n",
            "  inflating: train/fried_rice/983389.jpg  \n",
            "  inflating: train/fried_rice/983544.jpg  \n",
            "  inflating: train/fried_rice/989703.jpg  \n",
            "  inflating: train/fried_rice/992465.jpg  \n",
            "  inflating: train/fried_rice/995801.jpg  \n",
            "  inflating: train/fried_rice/995808.jpg  \n",
            "  inflating: train/fried_rice/996895.jpg  \n",
            "   creating: train/ice_cream/\n",
            "  inflating: train/ice_cream/1004744.jpg  \n",
            "  inflating: train/ice_cream/1012277.jpg  \n",
            "  inflating: train/ice_cream/1031536.jpg  \n",
            "  inflating: train/ice_cream/1044117.jpg  \n",
            "  inflating: train/ice_cream/1050427.jpg  \n",
            "  inflating: train/ice_cream/1052863.jpg  \n",
            "  inflating: train/ice_cream/1053680.jpg  \n",
            "  inflating: train/ice_cream/1069788.jpg  \n",
            "  inflating: train/ice_cream/1075106.jpg  \n",
            "  inflating: train/ice_cream/1078154.jpg  \n",
            "  inflating: train/ice_cream/1096437.jpg  \n",
            "  inflating: train/ice_cream/1100243.jpg  \n",
            "  inflating: train/ice_cream/1101126.jpg  \n",
            "  inflating: train/ice_cream/1101478.jpg  \n",
            "  inflating: train/ice_cream/1106165.jpg  \n",
            "  inflating: train/ice_cream/1108996.jpg  \n",
            "  inflating: train/ice_cream/1114199.jpg  \n",
            "  inflating: train/ice_cream/1121757.jpg  \n",
            "  inflating: train/ice_cream/1131858.jpg  \n",
            "  inflating: train/ice_cream/1135666.jpg  \n",
            "  inflating: train/ice_cream/1147925.jpg  \n",
            "  inflating: train/ice_cream/1152340.jpg  \n",
            "  inflating: train/ice_cream/1161150.jpg  \n",
            "  inflating: train/ice_cream/1161204.jpg  \n",
            "  inflating: train/ice_cream/1163225.jpg  \n",
            "  inflating: train/ice_cream/1169627.jpg  \n",
            "  inflating: train/ice_cream/1176281.jpg  \n",
            "  inflating: train/ice_cream/1183058.jpg  \n",
            "  inflating: train/ice_cream/1195913.jpg  \n",
            "  inflating: train/ice_cream/1203008.jpg  \n",
            "  inflating: train/ice_cream/1223415.jpg  \n",
            "  inflating: train/ice_cream/1228884.jpg  \n",
            "  inflating: train/ice_cream/1259334.jpg  \n",
            "  inflating: train/ice_cream/1262551.jpg  \n",
            "  inflating: train/ice_cream/1272987.jpg  \n",
            "  inflating: train/ice_cream/1290304.jpg  \n",
            "  inflating: train/ice_cream/1291046.jpg  \n",
            "  inflating: train/ice_cream/1303736.jpg  \n",
            "  inflating: train/ice_cream/1314535.jpg  \n",
            "  inflating: train/ice_cream/1317614.jpg  \n",
            "  inflating: train/ice_cream/1323479.jpg  \n",
            "  inflating: train/ice_cream/1352507.jpg  \n",
            "  inflating: train/ice_cream/1354431.jpg  \n",
            "  inflating: train/ice_cream/1355296.jpg  \n",
            "  inflating: train/ice_cream/1359697.jpg  \n",
            "  inflating: train/ice_cream/1364926.jpg  \n",
            "  inflating: train/ice_cream/1371104.jpg  \n",
            "  inflating: train/ice_cream/1375475.jpg  \n",
            "  inflating: train/ice_cream/1376101.jpg  \n",
            "  inflating: train/ice_cream/1378182.jpg  \n",
            "  inflating: train/ice_cream/1382660.jpg  \n",
            "  inflating: train/ice_cream/1382734.jpg  \n",
            "  inflating: train/ice_cream/1393047.jpg  \n",
            "  inflating: train/ice_cream/1397107.jpg  \n",
            "  inflating: train/ice_cream/1399802.jpg  \n",
            "  inflating: train/ice_cream/1404936.jpg  \n",
            "  inflating: train/ice_cream/1427476.jpg  \n",
            "  inflating: train/ice_cream/1431592.jpg  \n",
            "  inflating: train/ice_cream/1436130.jpg  \n",
            "  inflating: train/ice_cream/1436400.jpg  \n",
            "  inflating: train/ice_cream/1442308.jpg  \n",
            "  inflating: train/ice_cream/1454139.jpg  \n",
            "  inflating: train/ice_cream/1456899.jpg  \n",
            "  inflating: train/ice_cream/1467790.jpg  \n",
            "  inflating: train/ice_cream/1470380.jpg  \n",
            "  inflating: train/ice_cream/1472519.jpg  \n",
            "  inflating: train/ice_cream/1474948.jpg  \n",
            "  inflating: train/ice_cream/1482943.jpg  \n",
            "  inflating: train/ice_cream/1488989.jpg  \n",
            "  inflating: train/ice_cream/1490964.jpg  \n",
            "  inflating: train/ice_cream/1498499.jpg  \n",
            "  inflating: train/ice_cream/1503726.jpg  \n",
            "  inflating: train/ice_cream/1504172.jpg  \n",
            "  inflating: train/ice_cream/1508158.jpg  \n",
            "  inflating: train/ice_cream/1511291.jpg  \n",
            "  inflating: train/ice_cream/1512103.jpg  \n",
            "  inflating: train/ice_cream/1513176.jpg  \n",
            "  inflating: train/ice_cream/1527760.jpg  \n",
            "  inflating: train/ice_cream/1532620.jpg  \n",
            "  inflating: train/ice_cream/1533825.jpg  \n",
            "  inflating: train/ice_cream/1533926.jpg  \n",
            "  inflating: train/ice_cream/1538888.jpg  \n",
            "  inflating: train/ice_cream/1541974.jpg  \n",
            "  inflating: train/ice_cream/1542851.jpg  \n",
            "  inflating: train/ice_cream/1543644.jpg  \n",
            "  inflating: train/ice_cream/1549132.jpg  \n",
            "  inflating: train/ice_cream/1550486.jpg  \n",
            "  inflating: train/ice_cream/1559298.jpg  \n",
            "  inflating: train/ice_cream/1567762.jpg  \n",
            "  inflating: train/ice_cream/1569983.jpg  \n",
            "  inflating: train/ice_cream/1574421.jpg  \n",
            "  inflating: train/ice_cream/1574431.jpg  \n",
            "  inflating: train/ice_cream/1574573.jpg  \n",
            "  inflating: train/ice_cream/1581355.jpg  \n",
            "  inflating: train/ice_cream/1591665.jpg  \n",
            "  inflating: train/ice_cream/1593765.jpg  \n",
            "  inflating: train/ice_cream/1601132.jpg  \n",
            "  inflating: train/ice_cream/1609293.jpg  \n",
            "  inflating: train/ice_cream/1614872.jpg  \n",
            "  inflating: train/ice_cream/1615627.jpg  \n",
            "  inflating: train/ice_cream/1615718.jpg  \n",
            "  inflating: train/ice_cream/1617432.jpg  \n",
            "  inflating: train/ice_cream/1627864.jpg  \n",
            "  inflating: train/ice_cream/1629066.jpg  \n",
            "  inflating: train/ice_cream/1629364.jpg  \n",
            "  inflating: train/ice_cream/1632761.jpg  \n",
            "  inflating: train/ice_cream/1638501.jpg  \n",
            "  inflating: train/ice_cream/1638621.jpg  \n",
            "  inflating: train/ice_cream/1639310.jpg  \n",
            "  inflating: train/ice_cream/1639427.jpg  \n",
            "  inflating: train/ice_cream/1641797.jpg  \n",
            "  inflating: train/ice_cream/1643631.jpg  \n",
            "  inflating: train/ice_cream/1644742.jpg  \n",
            "  inflating: train/ice_cream/1657506.jpg  \n",
            "  inflating: train/ice_cream/1658007.jpg  \n",
            "  inflating: train/ice_cream/1665520.jpg  \n",
            "  inflating: train/ice_cream/1669006.jpg  \n",
            "  inflating: train/ice_cream/1671793.jpg  \n",
            "  inflating: train/ice_cream/1697124.jpg  \n",
            "  inflating: train/ice_cream/1698568.jpg  \n",
            "  inflating: train/ice_cream/1705429.jpg  \n",
            "  inflating: train/ice_cream/1710501.jpg  \n",
            "  inflating: train/ice_cream/1711323.jpg  \n",
            "  inflating: train/ice_cream/1718668.jpg  \n",
            "  inflating: train/ice_cream/1718861.jpg  \n",
            "  inflating: train/ice_cream/1729632.jpg  \n",
            "  inflating: train/ice_cream/1732918.jpg  \n",
            "  inflating: train/ice_cream/1752577.jpg  \n",
            "  inflating: train/ice_cream/1754018.jpg  \n",
            "  inflating: train/ice_cream/1756584.jpg  \n",
            "  inflating: train/ice_cream/1756963.jpg  \n",
            "  inflating: train/ice_cream/1758932.jpg  \n",
            "  inflating: train/ice_cream/1764067.jpg  \n",
            "  inflating: train/ice_cream/1770826.jpg  \n",
            "  inflating: train/ice_cream/1770967.jpg  \n",
            "  inflating: train/ice_cream/1774174.jpg  \n",
            "  inflating: train/ice_cream/1774439.jpg  \n",
            "  inflating: train/ice_cream/1777856.jpg  \n",
            "  inflating: train/ice_cream/1779883.jpg  \n",
            "  inflating: train/ice_cream/1780536.jpg  \n",
            "  inflating: train/ice_cream/1789728.jpg  \n",
            "  inflating: train/ice_cream/1792554.jpg  \n",
            "  inflating: train/ice_cream/1792568.jpg  \n",
            "  inflating: train/ice_cream/1792667.jpg  \n",
            "  inflating: train/ice_cream/1793992.jpg  \n",
            "  inflating: train/ice_cream/1795163.jpg  \n",
            "  inflating: train/ice_cream/1795168.jpg  \n",
            "  inflating: train/ice_cream/1797194.jpg  \n",
            "  inflating: train/ice_cream/1799393.jpg  \n",
            "  inflating: train/ice_cream/1800278.jpg  \n",
            "  inflating: train/ice_cream/1801809.jpg  \n",
            "  inflating: train/ice_cream/1804812.jpg  \n",
            "  inflating: train/ice_cream/1806490.jpg  \n",
            "  inflating: train/ice_cream/1808018.jpg  \n",
            "  inflating: train/ice_cream/1809619.jpg  \n",
            "  inflating: train/ice_cream/1810317.jpg  \n",
            "  inflating: train/ice_cream/1812511.jpg  \n",
            "  inflating: train/ice_cream/1816086.jpg  \n",
            "  inflating: train/ice_cream/1817170.jpg  \n",
            "  inflating: train/ice_cream/1825419.jpg  \n",
            "  inflating: train/ice_cream/1828947.jpg  \n",
            "  inflating: train/ice_cream/1830189.jpg  \n",
            "  inflating: train/ice_cream/1831501.jpg  \n",
            "  inflating: train/ice_cream/1834784.jpg  \n",
            "  inflating: train/ice_cream/1837798.jpg  \n",
            "  inflating: train/ice_cream/1839769.jpg  \n",
            "  inflating: train/ice_cream/1840808.jpg  \n",
            "  inflating: train/ice_cream/1840961.jpg  \n",
            "  inflating: train/ice_cream/1840963.jpg  \n",
            "  inflating: train/ice_cream/1841610.jpg  \n",
            "  inflating: train/ice_cream/1844971.jpg  \n",
            "  inflating: train/ice_cream/1852541.jpg  \n",
            "  inflating: train/ice_cream/1854061.jpg  \n",
            "  inflating: train/ice_cream/1854234.jpg  \n",
            "  inflating: train/ice_cream/1856539.jpg  \n",
            "  inflating: train/ice_cream/1861148.jpg  \n",
            "  inflating: train/ice_cream/1864081.jpg  \n",
            "  inflating: train/ice_cream/1873109.jpg  \n",
            "  inflating: train/ice_cream/1873888.jpg  \n",
            "  inflating: train/ice_cream/1879191.jpg  \n",
            "  inflating: train/ice_cream/1883083.jpg  \n",
            "  inflating: train/ice_cream/1894596.jpg  \n",
            "  inflating: train/ice_cream/1895732.jpg  \n",
            "  inflating: train/ice_cream/1896617.jpg  \n",
            "  inflating: train/ice_cream/1897655.jpg  \n",
            "  inflating: train/ice_cream/1898742.jpg  \n",
            "  inflating: train/ice_cream/1905911.jpg  \n",
            "  inflating: train/ice_cream/1908205.jpg  \n",
            "  inflating: train/ice_cream/1910824.jpg  \n",
            "  inflating: train/ice_cream/1916547.jpg  \n",
            "  inflating: train/ice_cream/1918103.jpg  \n",
            "  inflating: train/ice_cream/1919249.jpg  \n",
            "  inflating: train/ice_cream/1921412.jpg  \n",
            "  inflating: train/ice_cream/1923330.jpg  \n",
            "  inflating: train/ice_cream/1924398.jpg  \n",
            "  inflating: train/ice_cream/1926377.jpg  \n",
            "  inflating: train/ice_cream/1928682.jpg  \n",
            "  inflating: train/ice_cream/1931443.jpg  \n",
            "  inflating: train/ice_cream/1932818.jpg  \n",
            "  inflating: train/ice_cream/1932966.jpg  \n",
            "  inflating: train/ice_cream/1935959.jpg  \n",
            "  inflating: train/ice_cream/1939473.jpg  \n",
            "  inflating: train/ice_cream/1944459.jpg  \n",
            "  inflating: train/ice_cream/1944941.jpg  \n",
            "  inflating: train/ice_cream/1945937.jpg  \n",
            "  inflating: train/ice_cream/1951986.jpg  \n",
            "  inflating: train/ice_cream/1954378.jpg  \n",
            "  inflating: train/ice_cream/1954727.jpg  \n",
            "  inflating: train/ice_cream/1959332.jpg  \n",
            "  inflating: train/ice_cream/1961230.jpg  \n",
            "  inflating: train/ice_cream/1962995.jpg  \n",
            "  inflating: train/ice_cream/1966566.jpg  \n",
            "  inflating: train/ice_cream/1967445.jpg  \n",
            "  inflating: train/ice_cream/1971651.jpg  \n",
            "  inflating: train/ice_cream/1975702.jpg  \n",
            "  inflating: train/ice_cream/1976362.jpg  \n",
            "  inflating: train/ice_cream/1981410.jpg  \n",
            "  inflating: train/ice_cream/1987126.jpg  \n",
            "  inflating: train/ice_cream/1988687.jpg  \n",
            "  inflating: train/ice_cream/1995311.jpg  \n",
            "  inflating: train/ice_cream/1996318.jpg  \n",
            "  inflating: train/ice_cream/1996975.jpg  \n",
            "  inflating: train/ice_cream/1997049.jpg  \n",
            "  inflating: train/ice_cream/1997821.jpg  \n",
            "  inflating: train/ice_cream/2000307.jpg  \n",
            "  inflating: train/ice_cream/2000322.jpg  \n",
            "  inflating: train/ice_cream/2001070.jpg  \n",
            "  inflating: train/ice_cream/2001109.jpg  \n",
            "  inflating: train/ice_cream/2005627.jpg  \n",
            "  inflating: train/ice_cream/2005848.jpg  \n",
            "  inflating: train/ice_cream/2005850.jpg  \n",
            "  inflating: train/ice_cream/2005858.jpg  \n",
            "  inflating: train/ice_cream/2006053.jpg  \n",
            "  inflating: train/ice_cream/2012607.jpg  \n",
            "  inflating: train/ice_cream/2020165.jpg  \n",
            "  inflating: train/ice_cream/2023467.jpg  \n",
            "  inflating: train/ice_cream/2024937.jpg  \n",
            "  inflating: train/ice_cream/2029906.jpg  \n",
            "  inflating: train/ice_cream/2033804.jpg  \n",
            "  inflating: train/ice_cream/2035230.jpg  \n",
            "  inflating: train/ice_cream/2036809.jpg  \n",
            "  inflating: train/ice_cream/2038553.jpg  \n",
            "  inflating: train/ice_cream/2040874.jpg  \n",
            "  inflating: train/ice_cream/2043407.jpg  \n",
            "  inflating: train/ice_cream/2046954.jpg  \n",
            "  inflating: train/ice_cream/2050977.jpg  \n",
            "  inflating: train/ice_cream/2052811.jpg  \n",
            "  inflating: train/ice_cream/2052887.jpg  \n",
            "  inflating: train/ice_cream/2058777.jpg  \n",
            "  inflating: train/ice_cream/2060782.jpg  \n",
            "  inflating: train/ice_cream/2062498.jpg  \n",
            "  inflating: train/ice_cream/2064526.jpg  \n",
            "  inflating: train/ice_cream/2068301.jpg  \n",
            "  inflating: train/ice_cream/2068689.jpg  \n",
            "  inflating: train/ice_cream/2068691.jpg  \n",
            "  inflating: train/ice_cream/2070433.jpg  \n",
            "  inflating: train/ice_cream/2076828.jpg  \n",
            "  inflating: train/ice_cream/2079357.jpg  \n",
            "  inflating: train/ice_cream/2080558.jpg  \n",
            "  inflating: train/ice_cream/2081789.jpg  \n",
            "  inflating: train/ice_cream/2081798.jpg  \n",
            "  inflating: train/ice_cream/2085894.jpg  \n",
            "  inflating: train/ice_cream/2094296.jpg  \n",
            "  inflating: train/ice_cream/2097370.jpg  \n",
            "  inflating: train/ice_cream/2098634.jpg  \n",
            "  inflating: train/ice_cream/2106008.jpg  \n",
            "  inflating: train/ice_cream/2110698.jpg  \n",
            "  inflating: train/ice_cream/2114070.jpg  \n",
            "  inflating: train/ice_cream/2120757.jpg  \n",
            "  inflating: train/ice_cream/2120760.jpg  \n",
            "  inflating: train/ice_cream/2128139.jpg  \n",
            "  inflating: train/ice_cream/2132966.jpg  \n",
            "  inflating: train/ice_cream/2134732.jpg  \n",
            "  inflating: train/ice_cream/2135176.jpg  \n",
            "  inflating: train/ice_cream/2137477.jpg  \n",
            "  inflating: train/ice_cream/2139248.jpg  \n",
            "  inflating: train/ice_cream/2143634.jpg  \n",
            "  inflating: train/ice_cream/2144651.jpg  \n",
            "  inflating: train/ice_cream/2146803.jpg  \n",
            "  inflating: train/ice_cream/2155429.jpg  \n",
            "  inflating: train/ice_cream/2157238.jpg  \n",
            "  inflating: train/ice_cream/2161634.jpg  \n",
            "  inflating: train/ice_cream/2164013.jpg  \n",
            "  inflating: train/ice_cream/2164182.jpg  \n",
            "  inflating: train/ice_cream/2165749.jpg  \n",
            "  inflating: train/ice_cream/2167465.jpg  \n",
            "  inflating: train/ice_cream/2170604.jpg  \n",
            "  inflating: train/ice_cream/2172120.jpg  \n",
            "  inflating: train/ice_cream/2178445.jpg  \n",
            "  inflating: train/ice_cream/2179708.jpg  \n",
            "  inflating: train/ice_cream/2183551.jpg  \n",
            "  inflating: train/ice_cream/2184751.jpg  \n",
            "  inflating: train/ice_cream/2188378.jpg  \n",
            "  inflating: train/ice_cream/2189882.jpg  \n",
            "  inflating: train/ice_cream/2195388.jpg  \n",
            "  inflating: train/ice_cream/2195781.jpg  \n",
            "  inflating: train/ice_cream/2196244.jpg  \n",
            "  inflating: train/ice_cream/2200220.jpg  \n",
            "  inflating: train/ice_cream/2202446.jpg  \n",
            "  inflating: train/ice_cream/2209119.jpg  \n",
            "  inflating: train/ice_cream/2211675.jpg  \n",
            "  inflating: train/ice_cream/2217633.jpg  \n",
            "  inflating: train/ice_cream/2220277.jpg  \n",
            "  inflating: train/ice_cream/2220600.jpg  \n",
            "  inflating: train/ice_cream/2221010.jpg  \n",
            "  inflating: train/ice_cream/2221588.jpg  \n",
            "  inflating: train/ice_cream/2223225.jpg  \n",
            "  inflating: train/ice_cream/2225296.jpg  \n",
            "  inflating: train/ice_cream/2225554.jpg  \n",
            "  inflating: train/ice_cream/2226454.jpg  \n",
            "  inflating: train/ice_cream/2227881.jpg  \n",
            "  inflating: train/ice_cream/2228762.jpg  \n",
            "  inflating: train/ice_cream/2237104.jpg  \n",
            "  inflating: train/ice_cream/2237397.jpg  \n",
            "  inflating: train/ice_cream/2244833.jpg  \n",
            "  inflating: train/ice_cream/2245232.jpg  \n",
            "  inflating: train/ice_cream/2249077.jpg  \n",
            "  inflating: train/ice_cream/2249869.jpg  \n",
            "  inflating: train/ice_cream/2252757.jpg  \n",
            "  inflating: train/ice_cream/2272852.jpg  \n",
            "  inflating: train/ice_cream/2273961.jpg  \n",
            "  inflating: train/ice_cream/2275897.jpg  \n",
            "  inflating: train/ice_cream/2278442.jpg  \n",
            "  inflating: train/ice_cream/2280110.jpg  \n",
            "  inflating: train/ice_cream/2281789.jpg  \n",
            "  inflating: train/ice_cream/2281793.jpg  \n",
            "  inflating: train/ice_cream/2286883.jpg  \n",
            "  inflating: train/ice_cream/2289112.jpg  \n",
            "  inflating: train/ice_cream/2289445.jpg  \n",
            "  inflating: train/ice_cream/2293542.jpg  \n",
            "  inflating: train/ice_cream/2303051.jpg  \n",
            "  inflating: train/ice_cream/2303473.jpg  \n",
            "  inflating: train/ice_cream/2306778.jpg  \n",
            "  inflating: train/ice_cream/2309908.jpg  \n",
            "  inflating: train/ice_cream/2311070.jpg  \n",
            "  inflating: train/ice_cream/2311283.jpg  \n",
            "  inflating: train/ice_cream/2312528.jpg  \n",
            "  inflating: train/ice_cream/2317987.jpg  \n",
            "  inflating: train/ice_cream/2318945.jpg  \n",
            "  inflating: train/ice_cream/2319226.jpg  \n",
            "  inflating: train/ice_cream/2319680.jpg  \n",
            "  inflating: train/ice_cream/2322997.jpg  \n",
            "  inflating: train/ice_cream/2323930.jpg  \n",
            "  inflating: train/ice_cream/2324862.jpg  \n",
            "  inflating: train/ice_cream/2329651.jpg  \n",
            "  inflating: train/ice_cream/2331841.jpg  \n",
            "  inflating: train/ice_cream/2334650.jpg  \n",
            "  inflating: train/ice_cream/2336604.jpg  \n",
            "  inflating: train/ice_cream/2337057.jpg  \n",
            "  inflating: train/ice_cream/2339999.jpg  \n",
            "  inflating: train/ice_cream/2343204.jpg  \n",
            "  inflating: train/ice_cream/2345000.jpg  \n",
            "  inflating: train/ice_cream/2350188.jpg  \n",
            "  inflating: train/ice_cream/2357312.jpg  \n",
            "  inflating: train/ice_cream/2361283.jpg  \n",
            "  inflating: train/ice_cream/2366071.jpg  \n",
            "  inflating: train/ice_cream/2368648.jpg  \n",
            "  inflating: train/ice_cream/2370529.jpg  \n",
            "  inflating: train/ice_cream/2370718.jpg  \n",
            "  inflating: train/ice_cream/2374400.jpg  \n",
            "  inflating: train/ice_cream/2375538.jpg  \n",
            "  inflating: train/ice_cream/2378502.jpg  \n",
            "  inflating: train/ice_cream/2391301.jpg  \n",
            "  inflating: train/ice_cream/2393299.jpg  \n",
            "  inflating: train/ice_cream/2399064.jpg  \n",
            "  inflating: train/ice_cream/2402784.jpg  \n",
            "  inflating: train/ice_cream/2403971.jpg  \n",
            "  inflating: train/ice_cream/2405927.jpg  \n",
            "  inflating: train/ice_cream/2408211.jpg  \n",
            "  inflating: train/ice_cream/2411242.jpg  \n",
            "  inflating: train/ice_cream/2414982.jpg  \n",
            "  inflating: train/ice_cream/2415439.jpg  \n",
            "  inflating: train/ice_cream/2415695.jpg  \n",
            "  inflating: train/ice_cream/2420482.jpg  \n",
            "  inflating: train/ice_cream/2424130.jpg  \n",
            "  inflating: train/ice_cream/2427335.jpg  \n",
            "  inflating: train/ice_cream/2439136.jpg  \n",
            "  inflating: train/ice_cream/2444956.jpg  \n",
            "  inflating: train/ice_cream/2454167.jpg  \n",
            "  inflating: train/ice_cream/2454411.jpg  \n",
            "  inflating: train/ice_cream/2454779.jpg  \n",
            "  inflating: train/ice_cream/2458169.jpg  \n",
            "  inflating: train/ice_cream/2458209.jpg  \n",
            "  inflating: train/ice_cream/2463570.jpg  \n",
            "  inflating: train/ice_cream/2464652.jpg  \n",
            "  inflating: train/ice_cream/2465316.jpg  \n",
            "  inflating: train/ice_cream/2473149.jpg  \n",
            "  inflating: train/ice_cream/2473809.jpg  \n",
            "  inflating: train/ice_cream/2477769.jpg  \n",
            "  inflating: train/ice_cream/2478600.jpg  \n",
            "  inflating: train/ice_cream/2480174.jpg  \n",
            "  inflating: train/ice_cream/2481123.jpg  \n",
            "  inflating: train/ice_cream/2494775.jpg  \n",
            "  inflating: train/ice_cream/2501248.jpg  \n",
            "  inflating: train/ice_cream/2508060.jpg  \n",
            "  inflating: train/ice_cream/2516207.jpg  \n",
            "  inflating: train/ice_cream/2516341.jpg  \n",
            "  inflating: train/ice_cream/2521951.jpg  \n",
            "  inflating: train/ice_cream/2527966.jpg  \n",
            "  inflating: train/ice_cream/2532635.jpg  \n",
            "  inflating: train/ice_cream/2535342.jpg  \n",
            "  inflating: train/ice_cream/2535464.jpg  \n",
            "  inflating: train/ice_cream/2536486.jpg  \n",
            "  inflating: train/ice_cream/2555956.jpg  \n",
            "  inflating: train/ice_cream/2557070.jpg  \n",
            "  inflating: train/ice_cream/2564122.jpg  \n",
            "  inflating: train/ice_cream/2566459.jpg  \n",
            "  inflating: train/ice_cream/2567849.jpg  \n",
            "  inflating: train/ice_cream/2569140.jpg  \n",
            "  inflating: train/ice_cream/2570028.jpg  \n",
            "  inflating: train/ice_cream/2572527.jpg  \n",
            "  inflating: train/ice_cream/2580309.jpg  \n",
            "  inflating: train/ice_cream/2584577.jpg  \n",
            "  inflating: train/ice_cream/2598336.jpg  \n",
            "  inflating: train/ice_cream/2617205.jpg  \n",
            "  inflating: train/ice_cream/2625653.jpg  \n",
            "  inflating: train/ice_cream/2636201.jpg  \n",
            "  inflating: train/ice_cream/2637177.jpg  \n",
            "  inflating: train/ice_cream/2637395.jpg  \n",
            "  inflating: train/ice_cream/2642553.jpg  \n",
            "  inflating: train/ice_cream/2660046.jpg  \n",
            "  inflating: train/ice_cream/2660799.jpg  \n",
            "  inflating: train/ice_cream/2662236.jpg  \n",
            "  inflating: train/ice_cream/2677379.jpg  \n",
            "  inflating: train/ice_cream/2683305.jpg  \n",
            "  inflating: train/ice_cream/2689765.jpg  \n",
            "  inflating: train/ice_cream/2693460.jpg  \n",
            "  inflating: train/ice_cream/2702475.jpg  \n",
            "  inflating: train/ice_cream/2709659.jpg  \n",
            "  inflating: train/ice_cream/2711825.jpg  \n",
            "  inflating: train/ice_cream/2714491.jpg  \n",
            "  inflating: train/ice_cream/2720178.jpg  \n",
            "  inflating: train/ice_cream/2723879.jpg  \n",
            "  inflating: train/ice_cream/2725046.jpg  \n",
            "  inflating: train/ice_cream/2725227.jpg  \n",
            "  inflating: train/ice_cream/2738886.jpg  \n",
            "  inflating: train/ice_cream/2740699.jpg  \n",
            "  inflating: train/ice_cream/2740717.jpg  \n",
            "  inflating: train/ice_cream/2745246.jpg  \n",
            "  inflating: train/ice_cream/2751977.jpg  \n",
            "  inflating: train/ice_cream/2752957.jpg  \n",
            "  inflating: train/ice_cream/2757240.jpg  \n",
            "  inflating: train/ice_cream/2759414.jpg  \n",
            "  inflating: train/ice_cream/2769826.jpg  \n",
            "  inflating: train/ice_cream/2772699.jpg  \n",
            "  inflating: train/ice_cream/2779104.jpg  \n",
            "  inflating: train/ice_cream/2781056.jpg  \n",
            "  inflating: train/ice_cream/2785211.jpg  \n",
            "  inflating: train/ice_cream/2789094.jpg  \n",
            "  inflating: train/ice_cream/2804821.jpg  \n",
            "  inflating: train/ice_cream/2807509.jpg  \n",
            "  inflating: train/ice_cream/2809528.jpg  \n",
            "  inflating: train/ice_cream/2813488.jpg  \n",
            "  inflating: train/ice_cream/2813842.jpg  \n",
            "  inflating: train/ice_cream/2827100.jpg  \n",
            "  inflating: train/ice_cream/2829271.jpg  \n",
            "  inflating: train/ice_cream/2837779.jpg  \n",
            "  inflating: train/ice_cream/2839163.jpg  \n",
            "  inflating: train/ice_cream/2839865.jpg  \n",
            "  inflating: train/ice_cream/2854274.jpg  \n",
            "  inflating: train/ice_cream/2862530.jpg  \n",
            "  inflating: train/ice_cream/2873327.jpg  \n",
            "  inflating: train/ice_cream/2876209.jpg  \n",
            "  inflating: train/ice_cream/2876911.jpg  \n",
            "  inflating: train/ice_cream/2888236.jpg  \n",
            "  inflating: train/ice_cream/2891741.jpg  \n",
            "  inflating: train/ice_cream/2908015.jpg  \n",
            "  inflating: train/ice_cream/2916819.jpg  \n",
            "  inflating: train/ice_cream/2919768.jpg  \n",
            "  inflating: train/ice_cream/2919877.jpg  \n",
            "  inflating: train/ice_cream/2926695.jpg  \n",
            "  inflating: train/ice_cream/2931920.jpg  \n",
            "  inflating: train/ice_cream/2940666.jpg  \n",
            "  inflating: train/ice_cream/2948329.jpg  \n",
            "  inflating: train/ice_cream/2954128.jpg  \n",
            "  inflating: train/ice_cream/2957874.jpg  \n",
            "  inflating: train/ice_cream/2960932.jpg  \n",
            "  inflating: train/ice_cream/2970904.jpg  \n",
            "  inflating: train/ice_cream/2985290.jpg  \n",
            "  inflating: train/ice_cream/2985402.jpg  \n",
            "  inflating: train/ice_cream/2994649.jpg  \n",
            "  inflating: train/ice_cream/2998712.jpg  \n",
            "  inflating: train/ice_cream/3009207.jpg  \n",
            "  inflating: train/ice_cream/3019934.jpg  \n",
            "  inflating: train/ice_cream/3020577.jpg  \n",
            "  inflating: train/ice_cream/3023147.jpg  \n",
            "  inflating: train/ice_cream/3029342.jpg  \n",
            "  inflating: train/ice_cream/3030091.jpg  \n",
            "  inflating: train/ice_cream/3035844.jpg  \n",
            "  inflating: train/ice_cream/3048399.jpg  \n",
            "  inflating: train/ice_cream/3052049.jpg  \n",
            "  inflating: train/ice_cream/3057757.jpg  \n",
            "  inflating: train/ice_cream/3059792.jpg  \n",
            "  inflating: train/ice_cream/3062300.jpg  \n",
            "  inflating: train/ice_cream/3062422.jpg  \n",
            "  inflating: train/ice_cream/3076476.jpg  \n",
            "  inflating: train/ice_cream/3083704.jpg  \n",
            "  inflating: train/ice_cream/3087877.jpg  \n",
            "  inflating: train/ice_cream/3090616.jpg  \n",
            "  inflating: train/ice_cream/3093619.jpg  \n",
            "  inflating: train/ice_cream/3094264.jpg  \n",
            "  inflating: train/ice_cream/3098492.jpg  \n",
            "  inflating: train/ice_cream/3106764.jpg  \n",
            "  inflating: train/ice_cream/3110987.jpg  \n",
            "  inflating: train/ice_cream/3112996.jpg  \n",
            "  inflating: train/ice_cream/3126801.jpg  \n",
            "  inflating: train/ice_cream/3127250.jpg  \n",
            "  inflating: train/ice_cream/3133703.jpg  \n",
            "  inflating: train/ice_cream/3135306.jpg  \n",
            "  inflating: train/ice_cream/3136770.jpg  \n",
            "  inflating: train/ice_cream/3153587.jpg  \n",
            "  inflating: train/ice_cream/3167342.jpg  \n",
            "  inflating: train/ice_cream/3169471.jpg  \n",
            "  inflating: train/ice_cream/3171646.jpg  \n",
            "  inflating: train/ice_cream/3173445.jpg  \n",
            "  inflating: train/ice_cream/3177785.jpg  \n",
            "  inflating: train/ice_cream/3193686.jpg  \n",
            "  inflating: train/ice_cream/3193967.jpg  \n",
            "  inflating: train/ice_cream/3194781.jpg  \n",
            "  inflating: train/ice_cream/3210539.jpg  \n",
            "  inflating: train/ice_cream/3214424.jpg  \n",
            "  inflating: train/ice_cream/3219296.jpg  \n",
            "  inflating: train/ice_cream/3219456.jpg  \n",
            "  inflating: train/ice_cream/3228081.jpg  \n",
            "  inflating: train/ice_cream/3229615.jpg  \n",
            "  inflating: train/ice_cream/3245748.jpg  \n",
            "  inflating: train/ice_cream/3260331.jpg  \n",
            "  inflating: train/ice_cream/3276711.jpg  \n",
            "  inflating: train/ice_cream/3284093.jpg  \n",
            "  inflating: train/ice_cream/3288240.jpg  \n",
            "  inflating: train/ice_cream/3289062.jpg  \n",
            "  inflating: train/ice_cream/3294525.jpg  \n",
            "  inflating: train/ice_cream/3295330.jpg  \n",
            "  inflating: train/ice_cream/329878.jpg  \n",
            "  inflating: train/ice_cream/3299559.jpg  \n",
            "  inflating: train/ice_cream/3305807.jpg  \n",
            "  inflating: train/ice_cream/3315881.jpg  \n",
            "  inflating: train/ice_cream/3316916.jpg  \n",
            "  inflating: train/ice_cream/3320357.jpg  \n",
            "  inflating: train/ice_cream/3323080.jpg  \n",
            "  inflating: train/ice_cream/3336313.jpg  \n",
            "  inflating: train/ice_cream/3342070.jpg  \n",
            "  inflating: train/ice_cream/3355068.jpg  \n",
            "  inflating: train/ice_cream/3361634.jpg  \n",
            "  inflating: train/ice_cream/3369171.jpg  \n",
            "  inflating: train/ice_cream/3369335.jpg  \n",
            "  inflating: train/ice_cream/3380124.jpg  \n",
            "  inflating: train/ice_cream/3380318.jpg  \n",
            "  inflating: train/ice_cream/3381609.jpg  \n",
            "  inflating: train/ice_cream/3381633.jpg  \n",
            "  inflating: train/ice_cream/3384471.jpg  \n",
            "  inflating: train/ice_cream/3386961.jpg  \n",
            "  inflating: train/ice_cream/3387082.jpg  \n",
            "  inflating: train/ice_cream/3387913.jpg  \n",
            "  inflating: train/ice_cream/3400004.jpg  \n",
            "  inflating: train/ice_cream/3410886.jpg  \n",
            "  inflating: train/ice_cream/3413820.jpg  \n",
            "  inflating: train/ice_cream/3420709.jpg  \n",
            "  inflating: train/ice_cream/3421247.jpg  \n",
            "  inflating: train/ice_cream/3421624.jpg  \n",
            "  inflating: train/ice_cream/3422634.jpg  \n",
            "  inflating: train/ice_cream/3432964.jpg  \n",
            "  inflating: train/ice_cream/3439147.jpg  \n",
            "  inflating: train/ice_cream/345902.jpg  \n",
            "  inflating: train/ice_cream/3465698.jpg  \n",
            "  inflating: train/ice_cream/3465704.jpg  \n",
            "  inflating: train/ice_cream/3468095.jpg  \n",
            "  inflating: train/ice_cream/3469650.jpg  \n",
            "  inflating: train/ice_cream/3470976.jpg  \n",
            "  inflating: train/ice_cream/3471155.jpg  \n",
            "  inflating: train/ice_cream/3472927.jpg  \n",
            "  inflating: train/ice_cream/347478.jpg  \n",
            "  inflating: train/ice_cream/3475511.jpg  \n",
            "  inflating: train/ice_cream/3482107.jpg  \n",
            "  inflating: train/ice_cream/3482382.jpg  \n",
            "  inflating: train/ice_cream/3489715.jpg  \n",
            "  inflating: train/ice_cream/3490259.jpg  \n",
            "  inflating: train/ice_cream/3500741.jpg  \n",
            "  inflating: train/ice_cream/3505352.jpg  \n",
            "  inflating: train/ice_cream/351285.jpg  \n",
            "  inflating: train/ice_cream/3518829.jpg  \n",
            "  inflating: train/ice_cream/361026.jpg  \n",
            "  inflating: train/ice_cream/361892.jpg  \n",
            "  inflating: train/ice_cream/362377.jpg  \n",
            "  inflating: train/ice_cream/362451.jpg  \n",
            "  inflating: train/ice_cream/362958.jpg  \n",
            "  inflating: train/ice_cream/366331.jpg  \n",
            "  inflating: train/ice_cream/366955.jpg  \n",
            "  inflating: train/ice_cream/368047.jpg  \n",
            "  inflating: train/ice_cream/370140.jpg  \n",
            "  inflating: train/ice_cream/370687.jpg  \n",
            "  inflating: train/ice_cream/374902.jpg  \n",
            "  inflating: train/ice_cream/383439.jpg  \n",
            "  inflating: train/ice_cream/383940.jpg  \n",
            "  inflating: train/ice_cream/383969.jpg  \n",
            "  inflating: train/ice_cream/387707.jpg  \n",
            "  inflating: train/ice_cream/389519.jpg  \n",
            "  inflating: train/ice_cream/390886.jpg  \n",
            "  inflating: train/ice_cream/393886.jpg  \n",
            "  inflating: train/ice_cream/395122.jpg  \n",
            "  inflating: train/ice_cream/396427.jpg  \n",
            "  inflating: train/ice_cream/400761.jpg  \n",
            "  inflating: train/ice_cream/401345.jpg  \n",
            "  inflating: train/ice_cream/404056.jpg  \n",
            "  inflating: train/ice_cream/404313.jpg  \n",
            "  inflating: train/ice_cream/404645.jpg  \n",
            "  inflating: train/ice_cream/405182.jpg  \n",
            "  inflating: train/ice_cream/406969.jpg  \n",
            "  inflating: train/ice_cream/406986.jpg  \n",
            "  inflating: train/ice_cream/409022.jpg  \n",
            "  inflating: train/ice_cream/412694.jpg  \n",
            "  inflating: train/ice_cream/416421.jpg  \n",
            "  inflating: train/ice_cream/418321.jpg  \n",
            "  inflating: train/ice_cream/423168.jpg  \n",
            "  inflating: train/ice_cream/424908.jpg  \n",
            "  inflating: train/ice_cream/444839.jpg  \n",
            "  inflating: train/ice_cream/453961.jpg  \n",
            "  inflating: train/ice_cream/466390.jpg  \n",
            "  inflating: train/ice_cream/466584.jpg  \n",
            "  inflating: train/ice_cream/473375.jpg  \n",
            "  inflating: train/ice_cream/475092.jpg  \n",
            "  inflating: train/ice_cream/476199.jpg  \n",
            "  inflating: train/ice_cream/478615.jpg  \n",
            "  inflating: train/ice_cream/478897.jpg  \n",
            "  inflating: train/ice_cream/482965.jpg  \n",
            "  inflating: train/ice_cream/483761.jpg  \n",
            "  inflating: train/ice_cream/502557.jpg  \n",
            "  inflating: train/ice_cream/502762.jpg  \n",
            "  inflating: train/ice_cream/504131.jpg  \n",
            "  inflating: train/ice_cream/506864.jpg  \n",
            "  inflating: train/ice_cream/510048.jpg  \n",
            "  inflating: train/ice_cream/517105.jpg  \n",
            "  inflating: train/ice_cream/518018.jpg  \n",
            "  inflating: train/ice_cream/519165.jpg  \n",
            "  inflating: train/ice_cream/519403.jpg  \n",
            "  inflating: train/ice_cream/519719.jpg  \n",
            "  inflating: train/ice_cream/524372.jpg  \n",
            "  inflating: train/ice_cream/529345.jpg  \n",
            "  inflating: train/ice_cream/529464.jpg  \n",
            "  inflating: train/ice_cream/532110.jpg  \n",
            "  inflating: train/ice_cream/532112.jpg  \n",
            "  inflating: train/ice_cream/534544.jpg  \n",
            "  inflating: train/ice_cream/540721.jpg  \n",
            "  inflating: train/ice_cream/549804.jpg  \n",
            "  inflating: train/ice_cream/558696.jpg  \n",
            "  inflating: train/ice_cream/559960.jpg  \n",
            "  inflating: train/ice_cream/562264.jpg  \n",
            "  inflating: train/ice_cream/565344.jpg  \n",
            "  inflating: train/ice_cream/565383.jpg  \n",
            "  inflating: train/ice_cream/565602.jpg  \n",
            "  inflating: train/ice_cream/565649.jpg  \n",
            "  inflating: train/ice_cream/572735.jpg  \n",
            "  inflating: train/ice_cream/575058.jpg  \n",
            "  inflating: train/ice_cream/575321.jpg  \n",
            "  inflating: train/ice_cream/577955.jpg  \n",
            "  inflating: train/ice_cream/579407.jpg  \n",
            "  inflating: train/ice_cream/580476.jpg  \n",
            "  inflating: train/ice_cream/581343.jpg  \n",
            "  inflating: train/ice_cream/583540.jpg  \n",
            "  inflating: train/ice_cream/587022.jpg  \n",
            "  inflating: train/ice_cream/589177.jpg  \n",
            "  inflating: train/ice_cream/589762.jpg  \n",
            "  inflating: train/ice_cream/592856.jpg  \n",
            "  inflating: train/ice_cream/592860.jpg  \n",
            "  inflating: train/ice_cream/596317.jpg  \n",
            "  inflating: train/ice_cream/598638.jpg  \n",
            "  inflating: train/ice_cream/603661.jpg  \n",
            "  inflating: train/ice_cream/606241.jpg  \n",
            "  inflating: train/ice_cream/607086.jpg  \n",
            "  inflating: train/ice_cream/610704.jpg  \n",
            "  inflating: train/ice_cream/612548.jpg  \n",
            "  inflating: train/ice_cream/612697.jpg  \n",
            "  inflating: train/ice_cream/615792.jpg  \n",
            "  inflating: train/ice_cream/618711.jpg  \n",
            "  inflating: train/ice_cream/621259.jpg  \n",
            "  inflating: train/ice_cream/623707.jpg  \n",
            "  inflating: train/ice_cream/626780.jpg  \n",
            "  inflating: train/ice_cream/627047.jpg  \n",
            "  inflating: train/ice_cream/627510.jpg  \n",
            "  inflating: train/ice_cream/627927.jpg  \n",
            "  inflating: train/ice_cream/628778.jpg  \n",
            "  inflating: train/ice_cream/629644.jpg  \n",
            "  inflating: train/ice_cream/629824.jpg  \n",
            "  inflating: train/ice_cream/630661.jpg  \n",
            "  inflating: train/ice_cream/631683.jpg  \n",
            "  inflating: train/ice_cream/634400.jpg  \n",
            "  inflating: train/ice_cream/635425.jpg  \n",
            "  inflating: train/ice_cream/636669.jpg  \n",
            "  inflating: train/ice_cream/637627.jpg  \n",
            "  inflating: train/ice_cream/642219.jpg  \n",
            "  inflating: train/ice_cream/644600.jpg  \n",
            "  inflating: train/ice_cream/649315.jpg  \n",
            "  inflating: train/ice_cream/649649.jpg  \n",
            "  inflating: train/ice_cream/649653.jpg  \n",
            "  inflating: train/ice_cream/651308.jpg  \n",
            "  inflating: train/ice_cream/654895.jpg  \n",
            "  inflating: train/ice_cream/660729.jpg  \n",
            "  inflating: train/ice_cream/661287.jpg  \n",
            "  inflating: train/ice_cream/662217.jpg  \n",
            "  inflating: train/ice_cream/665923.jpg  \n",
            "  inflating: train/ice_cream/669677.jpg  \n",
            "  inflating: train/ice_cream/669934.jpg  \n",
            "  inflating: train/ice_cream/670788.jpg  \n",
            "  inflating: train/ice_cream/671209.jpg  \n",
            "  inflating: train/ice_cream/678912.jpg  \n",
            "  inflating: train/ice_cream/679206.jpg  \n",
            "  inflating: train/ice_cream/680155.jpg  \n",
            "  inflating: train/ice_cream/680572.jpg  \n",
            "  inflating: train/ice_cream/684667.jpg  \n",
            "  inflating: train/ice_cream/687393.jpg  \n",
            "  inflating: train/ice_cream/693398.jpg  \n",
            "  inflating: train/ice_cream/697142.jpg  \n",
            "  inflating: train/ice_cream/698179.jpg  \n",
            "  inflating: train/ice_cream/698257.jpg  \n",
            "  inflating: train/ice_cream/700851.jpg  \n",
            "  inflating: train/ice_cream/701210.jpg  \n",
            "  inflating: train/ice_cream/706705.jpg  \n",
            "  inflating: train/ice_cream/707593.jpg  \n",
            "  inflating: train/ice_cream/709713.jpg  \n",
            "  inflating: train/ice_cream/712331.jpg  \n",
            "  inflating: train/ice_cream/713475.jpg  \n",
            "  inflating: train/ice_cream/725512.jpg  \n",
            "  inflating: train/ice_cream/726789.jpg  \n",
            "  inflating: train/ice_cream/733439.jpg  \n",
            "  inflating: train/ice_cream/734476.jpg  \n",
            "  inflating: train/ice_cream/739531.jpg  \n",
            "  inflating: train/ice_cream/740885.jpg  \n",
            "  inflating: train/ice_cream/747453.jpg  \n",
            "  inflating: train/ice_cream/748440.jpg  \n",
            "  inflating: train/ice_cream/750855.jpg  \n",
            "  inflating: train/ice_cream/751188.jpg  \n",
            "  inflating: train/ice_cream/751271.jpg  \n",
            "  inflating: train/ice_cream/755238.jpg  \n",
            "  inflating: train/ice_cream/764239.jpg  \n",
            "  inflating: train/ice_cream/767801.jpg  \n",
            "  inflating: train/ice_cream/769833.jpg  \n",
            "  inflating: train/ice_cream/771599.jpg  \n",
            "  inflating: train/ice_cream/781059.jpg  \n",
            "  inflating: train/ice_cream/783226.jpg  \n",
            "  inflating: train/ice_cream/783240.jpg  \n",
            "  inflating: train/ice_cream/786596.jpg  \n",
            "  inflating: train/ice_cream/786773.jpg  \n",
            "  inflating: train/ice_cream/794398.jpg  \n",
            "  inflating: train/ice_cream/795635.jpg  \n",
            "  inflating: train/ice_cream/797984.jpg  \n",
            "  inflating: train/ice_cream/799161.jpg  \n",
            "  inflating: train/ice_cream/806395.jpg  \n",
            "  inflating: train/ice_cream/806679.jpg  \n",
            "  inflating: train/ice_cream/808983.jpg  \n",
            "  inflating: train/ice_cream/810909.jpg  \n",
            "  inflating: train/ice_cream/811535.jpg  \n",
            "  inflating: train/ice_cream/815302.jpg  \n",
            "  inflating: train/ice_cream/815554.jpg  \n",
            "  inflating: train/ice_cream/822123.jpg  \n",
            "  inflating: train/ice_cream/830925.jpg  \n",
            "  inflating: train/ice_cream/833261.jpg  \n",
            "  inflating: train/ice_cream/833264.jpg  \n",
            "  inflating: train/ice_cream/836600.jpg  \n",
            "  inflating: train/ice_cream/838627.jpg  \n",
            "  inflating: train/ice_cream/844732.jpg  \n",
            "  inflating: train/ice_cream/844744.jpg  \n",
            "  inflating: train/ice_cream/852533.jpg  \n",
            "  inflating: train/ice_cream/857808.jpg  \n",
            "  inflating: train/ice_cream/858324.jpg  \n",
            "  inflating: train/ice_cream/864405.jpg  \n",
            "  inflating: train/ice_cream/873308.jpg  \n",
            "  inflating: train/ice_cream/873378.jpg  \n",
            "  inflating: train/ice_cream/876967.jpg  \n",
            "  inflating: train/ice_cream/880755.jpg  \n",
            "  inflating: train/ice_cream/885709.jpg  \n",
            "  inflating: train/ice_cream/888114.jpg  \n",
            "  inflating: train/ice_cream/891533.jpg  \n",
            "  inflating: train/ice_cream/892598.jpg  \n",
            "  inflating: train/ice_cream/893681.jpg  \n",
            "  inflating: train/ice_cream/900935.jpg  \n",
            "  inflating: train/ice_cream/901660.jpg  \n",
            "  inflating: train/ice_cream/904496.jpg  \n",
            "  inflating: train/ice_cream/904498.jpg  \n",
            "  inflating: train/ice_cream/909342.jpg  \n",
            "  inflating: train/ice_cream/914855.jpg  \n",
            "  inflating: train/ice_cream/918181.jpg  \n",
            "  inflating: train/ice_cream/918359.jpg  \n",
            "  inflating: train/ice_cream/919447.jpg  \n",
            "  inflating: train/ice_cream/921876.jpg  \n",
            "  inflating: train/ice_cream/921978.jpg  \n",
            "  inflating: train/ice_cream/923525.jpg  \n",
            "  inflating: train/ice_cream/939153.jpg  \n",
            "  inflating: train/ice_cream/942002.jpg  \n",
            "  inflating: train/ice_cream/945740.jpg  \n",
            "  inflating: train/ice_cream/950902.jpg  \n",
            "  inflating: train/ice_cream/951325.jpg  \n",
            "  inflating: train/ice_cream/953175.jpg  \n",
            "  inflating: train/ice_cream/956000.jpg  \n",
            "  inflating: train/ice_cream/978261.jpg  \n",
            "  inflating: train/ice_cream/978988.jpg  \n",
            "  inflating: train/ice_cream/987631.jpg  \n",
            "  inflating: train/ice_cream/988684.jpg  \n",
            "  inflating: train/ice_cream/995145.jpg  \n",
            "  inflating: train/ice_cream/995441.jpg  \n",
            "  inflating: train/ice_cream/995526.jpg  \n"
          ]
        }
      ]
    },
    {
      "cell_type": "code",
      "source": [
        "!mkdir image"
      ],
      "metadata": {
        "id": "aK-YU8qzGppy"
      },
      "execution_count": 4,
      "outputs": []
    },
    {
      "cell_type": "code",
      "source": [
        "!mv train image"
      ],
      "metadata": {
        "id": "pzFVb7FKGxUF"
      },
      "execution_count": 5,
      "outputs": []
    },
    {
      "cell_type": "code",
      "source": [
        "!mv val image"
      ],
      "metadata": {
        "id": "sjFE3xIzGyzn"
      },
      "execution_count": 6,
      "outputs": []
    },
    {
      "cell_type": "code",
      "source": [
        "!mv test image"
      ],
      "metadata": {
        "id": "pA2K6Hjh6jPj"
      },
      "execution_count": 11,
      "outputs": []
    },
    {
      "cell_type": "code",
      "source": [
        "import os\n",
        "\n",
        "# Walk through pizza_steak directory and list number of files\n",
        "for dirpath, dirnames, filenames in os.walk(\"image\"):\n",
        "  print(f\"There are {len(dirnames)} directories and {len(filenames)} images in '{dirpath}'.\")"
      ],
      "metadata": {
        "colab": {
          "base_uri": "https://localhost:8080/"
        },
        "id": "zFyCbJ6YGTIc",
        "outputId": "330b3198-02e6-4113-dca6-0d2363a4921f"
      },
      "execution_count": 7,
      "outputs": [
        {
          "output_type": "stream",
          "name": "stdout",
          "text": [
            "There are 2 directories and 0 images in 'image'.\n",
            "There are 2 directories and 0 images in 'image/val'.\n",
            "There are 0 directories and 100 images in 'image/val/fried_rice'.\n",
            "There are 0 directories and 100 images in 'image/val/ice_cream'.\n",
            "There are 2 directories and 0 images in 'image/train'.\n",
            "There are 0 directories and 800 images in 'image/train/fried_rice'.\n",
            "There are 0 directories and 800 images in 'image/train/ice_cream'.\n"
          ]
        }
      ]
    },
    {
      "cell_type": "markdown",
      "source": [
        "## Viz image"
      ],
      "metadata": {
        "id": "AtTKuwPe4Fr6"
      }
    },
    {
      "cell_type": "code",
      "source": [
        "# View an image\n",
        "import matplotlib.pyplot as plt\n",
        "import matplotlib.image as mpimg\n",
        "import random\n",
        "\n",
        "def view_random_image(target_dir, target_class):\n",
        "  # Setup target directory (we'll view images from here)\n",
        "  target_folder = target_dir+target_class\n",
        "\n",
        "  # Get a random image path\n",
        "  random_image = random.sample(os.listdir(target_folder), 1)\n",
        "  print(f'{random_image}')\n",
        "  # Read in the image and plot it using matplotlib\n",
        "  img = mpimg.imread(target_folder + \"/\" + random_image[0])\n",
        "  plt.imshow(img)\n",
        "  plt.title(target_class)\n",
        "  plt.axis(\"off\");\n",
        "\n",
        "  print(f\"Image shape: {img.shape}\") # show the shape of the image\n",
        "\n"
      ],
      "metadata": {
        "id": "jHOJFcuMHMKK"
      },
      "execution_count": 8,
      "outputs": []
    },
    {
      "cell_type": "code",
      "source": [
        "view_random_image('image/test/','ice_cream')"
      ],
      "metadata": {
        "colab": {
          "base_uri": "https://localhost:8080/",
          "height": 299
        },
        "id": "HHP_Lbq_HNqG",
        "outputId": "b16eb3b0-4b5f-4da5-b58c-d0029f32109c"
      },
      "execution_count": 12,
      "outputs": [
        {
          "output_type": "stream",
          "name": "stdout",
          "text": [
            "['243829.jpg']\n",
            "Image shape: (512, 382, 3)\n"
          ]
        },
        {
          "output_type": "display_data",
          "data": {
            "text/plain": [
              "<Figure size 432x288 with 1 Axes>"
            ],
            "image/png": "[encoded data removed]"
          },
          "metadata": {
            "needs_background": "light"
          }
        }
      ]
    },
    {
      "cell_type": "markdown",
      "source": [
        "## Split data"
      ],
      "metadata": {
        "id": "RYy8iJ9_INGu"
      }
    },
    {
      "cell_type": "code",
      "source": [
        "train_dir='image/train'\n",
        "test_dir='image/test'"
      ],
      "metadata": {
        "id": "WZu75Rc-IM_2"
      },
      "execution_count": 13,
      "outputs": []
    },
    {
      "cell_type": "code",
      "source": [
        "from tensorflow.keras.preprocessing.image import ImageDataGenerator\n",
        "train_datagen=ImageDataGenerator(rescale=1/255.)\n",
        "test_datagen=ImageDataGenerator(rescale=1/255.)"
      ],
      "metadata": {
        "id": "vjmpSzA18Eqa"
      },
      "execution_count": 14,
      "outputs": []
    },
    {
      "cell_type": "code",
      "source": [
        "train_data=train_datagen.flow_from_directory(train_dir,\n",
        "                                             target_size=(224,224),\n",
        "                                             class_mode='binary')\n",
        "test_data=test_datagen.flow_from_directory(test_dir,\n",
        "                                             target_size=(224,224),\n",
        "                                             class_mode='binary')"
      ],
      "metadata": {
        "colab": {
          "base_uri": "https://localhost:8080/"
        },
        "id": "MGW9VxtxIJHe",
        "outputId": "a166bbec-e4dc-4475-e010-11b2936ca78c"
      },
      "execution_count": 15,
      "outputs": [
        {
          "output_type": "stream",
          "name": "stdout",
          "text": [
            "Found 1600 images belonging to 2 classes.\n",
            "Found 200 images belonging to 2 classes.\n"
          ]
        }
      ]
    },
    {
      "cell_type": "code",
      "source": [
        "image,labels=train_data.next()"
      ],
      "metadata": {
        "id": "FRbhj28xI-j9"
      },
      "execution_count": 16,
      "outputs": []
    },
    {
      "cell_type": "code",
      "source": [
        "labels.shape,labels"
      ],
      "metadata": {
        "colab": {
          "base_uri": "https://localhost:8080/"
        },
        "id": "WRlVau2dJF8b",
        "outputId": "c2ac0496-ba43-4d65-ab75-8f5b9fdedfd4"
      },
      "execution_count": 19,
      "outputs": [
        {
          "output_type": "execute_result",
          "data": {
            "text/plain": [
              "((32,),\n",
              " array([1., 1., 0., 1., 0., 1., 1., 1., 1., 0., 0., 1., 0., 1., 0., 0., 1.,\n",
              "        1., 1., 1., 1., 1., 1., 0., 0., 1., 1., 1., 0., 0., 0., 1.],\n",
              "       dtype=float32))"
            ]
          },
          "metadata": {},
          "execution_count": 19
        }
      ]
    },
    {
      "cell_type": "code",
      "source": [
        "# See class or labels image\n",
        "train_data.class_indices"
      ],
      "metadata": {
        "colab": {
          "base_uri": "https://localhost:8080/"
        },
        "id": "tZVFGR32JX70",
        "outputId": "7da92725-7b8b-48c1-9d96-17d35dfa0b9a"
      },
      "execution_count": 20,
      "outputs": [
        {
          "output_type": "execute_result",
          "data": {
            "text/plain": [
              "{'fried_rice': 0, 'ice_cream': 1}"
            ]
          },
          "metadata": {},
          "execution_count": 20
        }
      ]
    },
    {
      "cell_type": "code",
      "source": [
        "def Viz_datagen_batch(dataImage):\n",
        "  x , y  = dataImage.next()\n",
        "  for i in range(2):\n",
        "    image = x[i]\n",
        "    label = y[i]\n",
        "    plt.axis(False)\n",
        "    # print(label) --> for checking whether it's plotting right ones\n",
        "    if label == 1.0:\n",
        "      label = 'ice_cream'\n",
        "    else:\n",
        "      label = 'fried_rice'\n",
        "    plt.title(label)\n",
        "    plt.imshow(image)\n",
        "    plt.show()"
      ],
      "metadata": {
        "id": "qoC3tIrzIh3F"
      },
      "execution_count": 21,
      "outputs": []
    },
    {
      "cell_type": "code",
      "source": [
        "Viz_datagen_batch(train_data)"
      ],
      "metadata": {
        "colab": {
          "base_uri": "https://localhost:8080/",
          "height": 511
        },
        "id": "_fAJemYyIuyV",
        "outputId": "b4512111-0a73-4e97-d3e9-3ccb06ed0daf"
      },
      "execution_count": 22,
      "outputs": [
        {
          "output_type": "display_data",
          "data": {
            "text/plain": [
              "<Figure size 432x288 with 1 Axes>"
            ],
            "image/png": "[encoded data removed]"
          },
          "metadata": {
            "needs_background": "light"
          }
        },
        {
          "output_type": "display_data",
          "data": {
            "text/plain": [
              "<Figure size 432x288 with 1 Axes>"
            ],
            "image/png": "[encoded data removed]"
          },
          "metadata": {
            "needs_background": "light"
          }
        }
      ]
    },
    {
      "cell_type": "code",
      "source": [
        "# Make model\n",
        "from tensorflow.keras import Sequential\n",
        "from tensorflow.keras.layers import (Conv2D,MaxPool2D,Flatten,Dense)\n",
        "from tensorflow.keras.optimizers import Adam"
      ],
      "metadata": {
        "id": "JxLT3N2zIxZW"
      },
      "execution_count": 23,
      "outputs": []
    },
    {
      "cell_type": "code",
      "source": [
        "# Make model simplefield\n",
        "model_ans =  Sequential([\n",
        "    Conv2D(10,3,activation='relu',input_shape=(224,224,3)),\n",
        "    MaxPool2D(),\n",
        "\n",
        "\n",
        "    Flatten(),\n",
        "    Dense(1,activation='sigmoid')\n",
        "])"
      ],
      "metadata": {
        "id": "oHUgxms4LIUo"
      },
      "execution_count": 24,
      "outputs": []
    },
    {
      "cell_type": "code",
      "source": [
        "model_ans.summary()"
      ],
      "metadata": {
        "colab": {
          "base_uri": "https://localhost:8080/"
        },
        "id": "U0zb1D8dLrV0",
        "outputId": "ba00b4ce-331b-44ae-87b7-4e5faa097635"
      },
      "execution_count": 25,
      "outputs": [
        {
          "output_type": "stream",
          "name": "stdout",
          "text": [
            "Model: \"sequential\"\n",
            "_________________________________________________________________\n",
            " Layer (type)                Output Shape              Param #   \n",
            "=================================================================\n",
            " conv2d (Conv2D)             (None, 222, 222, 10)      280       \n",
            "                                                                 \n",
            " max_pooling2d (MaxPooling2D  (None, 111, 111, 10)     0         \n",
            " )                                                               \n",
            "                                                                 \n",
            " flatten (Flatten)           (None, 123210)            0         \n",
            "                                                                 \n",
            " dense (Dense)               (None, 1)                 123211    \n",
            "                                                                 \n",
            "=================================================================\n",
            "Total params: 123,491\n",
            "Trainable params: 123,491\n",
            "Non-trainable params: 0\n",
            "_________________________________________________________________\n"
          ]
        }
      ]
    },
    {
      "cell_type": "code",
      "source": [
        "# Compile model\n",
        "model_ans.compile(loss='BinaryCrossentropy',\n",
        "                  optimizer=Adam(),\n",
        "                  metrics=[\"accuracy\"])"
      ],
      "metadata": {
        "id": "Rlh_bKZFLvUV"
      },
      "execution_count": 26,
      "outputs": []
    },
    {
      "cell_type": "code",
      "source": [
        "# Fit model\n",
        "hist_model_ans=model_ans.fit(train_data,\n",
        "                             epochs=5,\n",
        "                             steps_per_epoch=len(train_data),\n",
        "                             validation_data=test_data,\n",
        "                             validation_steps=len(test_data))"
      ],
      "metadata": {
        "colab": {
          "base_uri": "https://localhost:8080/"
        },
        "id": "j3KDKHyfL7Ms",
        "outputId": "92e8181a-8e75-4fa9-d667-a98980bf5de7"
      },
      "execution_count": 27,
      "outputs": [
        {
          "output_type": "stream",
          "name": "stdout",
          "text": [
            "Epoch 1/5\n",
            "50/50 [==============================] - 21s 165ms/step - loss: 1.5048 - accuracy: 0.6219 - val_loss: 0.7409 - val_accuracy: 0.6600\n",
            "Epoch 2/5\n",
            "50/50 [==============================] - 8s 164ms/step - loss: 0.5267 - accuracy: 0.7444 - val_loss: 0.5971 - val_accuracy: 0.7100\n",
            "Epoch 3/5\n",
            "50/50 [==============================] - 8s 162ms/step - loss: 0.4439 - accuracy: 0.8012 - val_loss: 0.5321 - val_accuracy: 0.7100\n",
            "Epoch 4/5\n",
            "50/50 [==============================] - 8s 162ms/step - loss: 0.3694 - accuracy: 0.8475 - val_loss: 0.5134 - val_accuracy: 0.7450\n",
            "Epoch 5/5\n",
            "50/50 [==============================] - 8s 161ms/step - loss: 0.2982 - accuracy: 0.8963 - val_loss: 0.5939 - val_accuracy: 0.7300\n"
          ]
        }
      ]
    },
    {
      "cell_type": "markdown",
      "source": [
        "## Evalute "
      ],
      "metadata": {
        "id": "WahqVshVNAhK"
      }
    },
    {
      "cell_type": "code",
      "source": [
        "val_datagen=ImageDataGenerator(rescale=1/255.)\n"
      ],
      "metadata": {
        "id": "XE6zTTV4M6RF"
      },
      "execution_count": 28,
      "outputs": []
    },
    {
      "cell_type": "code",
      "source": [
        "val_data=val_datagen.flow_from_directory('image/val',\n",
        "                                            target_size=(224,224),\n",
        "                                             class_mode='binary')"
      ],
      "metadata": {
        "colab": {
          "base_uri": "https://localhost:8080/"
        },
        "id": "sJ2z_lwcNARL",
        "outputId": "29eb68d4-a3b0-43d6-d2f5-50b92953c26b"
      },
      "execution_count": 29,
      "outputs": [
        {
          "output_type": "stream",
          "name": "stdout",
          "text": [
            "Found 200 images belonging to 2 classes.\n"
          ]
        }
      ]
    },
    {
      "cell_type": "code",
      "source": [
        "model_ans.evaluate(val_data)"
      ],
      "metadata": {
        "colab": {
          "base_uri": "https://localhost:8080/"
        },
        "id": "rBFRv4vgMouc",
        "outputId": "b0b875f8-81c7-492b-896c-d7137e4e4876"
      },
      "execution_count": 30,
      "outputs": [
        {
          "output_type": "stream",
          "name": "stdout",
          "text": [
            "7/7 [==============================] - 1s 130ms/step - loss: 0.4684 - accuracy: 0.7750\n"
          ]
        },
        {
          "output_type": "execute_result",
          "data": {
            "text/plain": [
              "[0.4683877229690552, 0.7749999761581421]"
            ]
          },
          "metadata": {},
          "execution_count": 30
        }
      ]
    },
    {
      "cell_type": "code",
      "source": [
        "import pandas as pd"
      ],
      "metadata": {
        "id": "_NB8Cl3ENOKO"
      },
      "execution_count": 31,
      "outputs": []
    },
    {
      "cell_type": "code",
      "source": [
        "pd.DataFrame(hist_model_ans.history)"
      ],
      "metadata": {
        "colab": {
          "base_uri": "https://localhost:8080/",
          "height": 206
        },
        "id": "7cvObKzMNMJl",
        "outputId": "350aac44-5061-4e9a-90e5-2ca9700d84e7"
      },
      "execution_count": 32,
      "outputs": [
        {
          "output_type": "execute_result",
          "data": {
            "text/plain": [
              "       loss  accuracy  val_loss  val_accuracy\n",
              "0  1.504789  0.621875  0.740874         0.660\n",
              "1  0.526673  0.744375  0.597100         0.710\n",
              "2  0.443893  0.801250  0.532063         0.710\n",
              "3  0.369430  0.847500  0.513360         0.745\n",
              "4  0.298199  0.896250  0.593882         0.730"
            ],
            "text/html": [
              "\n",
              "  <div id=\"df-1cf4bd8a-3b98-4a87-b3fe-a426e30ae6ed\">\n",
              "    <div class=\"colab-df-container\">\n",
              "      <div>\n",
              "<style scoped>\n",
              "    .dataframe tbody tr th:only-of-type {\n",
              "        vertical-align: middle;\n",
              "    }\n",
              "\n",
              "    .dataframe tbody tr th {\n",
              "        vertical-align: top;\n",
              "    }\n",
              "\n",
              "    .dataframe thead th {\n",
              "        text-align: right;\n",
              "    }\n",
              "</style>\n",
              "<table border=\"1\" class=\"dataframe\">\n",
              "  <thead>\n",
              "    <tr style=\"text-align: right;\">\n",
              "      <th></th>\n",
              "      <th>loss</th>\n",
              "      <th>accuracy</th>\n",
              "      <th>val_loss</th>\n",
              "      <th>val_accuracy</th>\n",
              "    </tr>\n",
              "  </thead>\n",
              "  <tbody>\n",
              "    <tr>\n",
              "      <th>0</th>\n",
              "      <td>1.504789</td>\n",
              "      <td>0.621875</td>\n",
              "      <td>0.740874</td>\n",
              "      <td>0.660</td>\n",
              "    </tr>\n",
              "    <tr>\n",
              "      <th>1</th>\n",
              "      <td>0.526673</td>\n",
              "      <td>0.744375</td>\n",
              "      <td>0.597100</td>\n",
              "      <td>0.710</td>\n",
              "    </tr>\n",
              "    <tr>\n",
              "      <th>2</th>\n",
              "      <td>0.443893</td>\n",
              "      <td>0.801250</td>\n",
              "      <td>0.532063</td>\n",
              "      <td>0.710</td>\n",
              "    </tr>\n",
              "    <tr>\n",
              "      <th>3</th>\n",
              "      <td>0.369430</td>\n",
              "      <td>0.847500</td>\n",
              "      <td>0.513360</td>\n",
              "      <td>0.745</td>\n",
              "    </tr>\n",
              "    <tr>\n",
              "      <th>4</th>\n",
              "      <td>0.298199</td>\n",
              "      <td>0.896250</td>\n",
              "      <td>0.593882</td>\n",
              "      <td>0.730</td>\n",
              "    </tr>\n",
              "  </tbody>\n",
              "</table>\n",
              "</div>\n",
              "      <button class=\"colab-df-convert\" onclick=\"convertToInteractive('df-1cf4bd8a-3b98-4a87-b3fe-a426e30ae6ed')\"\n",
              "              title=\"Convert this dataframe to an interactive table.\"\n",
              "              style=\"display:none;\">\n",
              "        \n",
              "  <svg xmlns=\"http://www.w3.org/2000/svg\" height=\"24px\"viewBox=\"0 0 24 24\"\n",
              "       width=\"24px\">\n",
              "    <path d=\"M0 0h24v24H0V0z\" fill=\"none\"/>\n",
              "    <path d=\"M18.56 5.44l.94 2.06.94-2.06 2.06-.94-2.06-.94-.94-2.06-.94 2.06-2.06.94zm-11 1L8.5 8.5l.94-2.06 2.06-.94-2.06-.94L8.5 2.5l-.94 2.06-2.06.94zm10 10l.94 2.06.94-2.06 2.06-.94-2.06-.94-.94-2.06-.94 2.06-2.06.94z\"/><path d=\"M17.41 7.96l-1.37-1.37c-.4-.4-.92-.59-1.43-.59-.52 0-1.04.2-1.43.59L10.3 9.45l-7.72 7.72c-.78.78-.78 2.05 0 2.83L4 21.41c.39.39.9.59 1.41.59.51 0 1.02-.2 1.41-.59l7.78-7.78 2.81-2.81c.8-.78.8-2.07 0-2.86zM5.41 20L4 18.59l7.72-7.72 1.47 1.35L5.41 20z\"/>\n",
              "  </svg>\n",
              "      </button>\n",
              "      \n",
              "  <style>\n",
              "    .colab-df-container {\n",
              "      display:flex;\n",
              "      flex-wrap:wrap;\n",
              "      gap: 12px;\n",
              "    }\n",
              "\n",
              "    .colab-df-convert {\n",
              "      background-color: #E8F0FE;\n",
              "      border: none;\n",
              "      border-radius: 50%;\n",
              "      cursor: pointer;\n",
              "      display: none;\n",
              "      fill: #1967D2;\n",
              "      height: 32px;\n",
              "      padding: 0 0 0 0;\n",
              "      width: 32px;\n",
              "    }\n",
              "\n",
              "    .colab-df-convert:hover {\n",
              "      background-color: #E2EBFA;\n",
              "      box-shadow: 0px 1px 2px rgba(60, 64, 67, 0.3), 0px 1px 3px 1px rgba(60, 64, 67, 0.15);\n",
              "      fill: #174EA6;\n",
              "    }\n",
              "\n",
              "    [theme=dark] .colab-df-convert {\n",
              "      background-color: #3B4455;\n",
              "      fill: #D2E3FC;\n",
              "    }\n",
              "\n",
              "    [theme=dark] .colab-df-convert:hover {\n",
              "      background-color: #434B5C;\n",
              "      box-shadow: 0px 1px 3px 1px rgba(0, 0, 0, 0.15);\n",
              "      filter: drop-shadow(0px 1px 2px rgba(0, 0, 0, 0.3));\n",
              "      fill: #FFFFFF;\n",
              "    }\n",
              "  </style>\n",
              "\n",
              "      <script>\n",
              "        const buttonEl =\n",
              "          document.querySelector('#df-1cf4bd8a-3b98-4a87-b3fe-a426e30ae6ed button.colab-df-convert');\n",
              "        buttonEl.style.display =\n",
              "          google.colab.kernel.accessAllowed ? 'block' : 'none';\n",
              "\n",
              "        async function convertToInteractive(key) {\n",
              "          const element = document.querySelector('#df-1cf4bd8a-3b98-4a87-b3fe-a426e30ae6ed');\n",
              "          const dataTable =\n",
              "            await google.colab.kernel.invokeFunction('convertToInteractive',\n",
              "                                                     [key], {});\n",
              "          if (!dataTable) return;\n",
              "\n",
              "          const docLinkHtml = 'Like what you see? Visit the ' +\n",
              "            '<a target=\"_blank\" href=https://colab.research.google.com/notebooks/data_table.ipynb>data table notebook</a>'\n",
              "            + ' to learn more about interactive tables.';\n",
              "          element.innerHTML = '';\n",
              "          dataTable['output_type'] = 'display_data';\n",
              "          await google.colab.output.renderOutput(dataTable, element);\n",
              "          const docLink = document.createElement('div');\n",
              "          docLink.innerHTML = docLinkHtml;\n",
              "          element.appendChild(docLink);\n",
              "        }\n",
              "      </script>\n",
              "    </div>\n",
              "  </div>\n",
              "  "
            ]
          },
          "metadata": {},
          "execution_count": 32
        }
      ]
    },
    {
      "cell_type": "code",
      "source": [
        "pd.DataFrame(hist_model_ans.history).plot()"
      ],
      "metadata": {
        "colab": {
          "base_uri": "https://localhost:8080/",
          "height": 282
        },
        "id": "qBEWMRwoNSWD",
        "outputId": "d01a43bc-8c03-4190-e64a-31b92ac671ff"
      },
      "execution_count": 33,
      "outputs": [
        {
          "output_type": "execute_result",
          "data": {
            "text/plain": [
              "<matplotlib.axes._subplots.AxesSubplot at 0x7ff5d5ed9210>"
            ]
          },
          "metadata": {},
          "execution_count": 33
        },
        {
          "output_type": "display_data",
          "data": {
            "text/plain": [
              "<Figure size 432x288 with 1 Axes>"
            ],
            "image/png": "[encoded data removed]"
          },
          "metadata": {
            "needs_background": "light"
          }
        }
      ]
    },
    {
      "cell_type": "code",
      "source": [
        "def plot_loss(history,title):\n",
        "    plt.title(title)\n",
        "    plt.plot(history.history['loss'])\n",
        "    plt.plot(history.history['val_loss'])\n",
        "    plt.ylabel('loss')\n",
        "    plt.xlabel('epoch')\n",
        "    plt.legend(['train_loss', 'validation_loss'], loc='best')\n",
        "    plt.show()"
      ],
      "metadata": {
        "id": "fCR91_O-NTtb"
      },
      "execution_count": 34,
      "outputs": []
    },
    {
      "cell_type": "code",
      "source": [
        "plot_loss(hist_model_ans,'Model simplefiled')"
      ],
      "metadata": {
        "colab": {
          "base_uri": "https://localhost:8080/",
          "height": 295
        },
        "id": "fgU72vT1NYW_",
        "outputId": "7cfb4a03-b94b-4ad0-fd0d-f3b2122655b8"
      },
      "execution_count": 35,
      "outputs": [
        {
          "output_type": "display_data",
          "data": {
            "text/plain": [
              "<Figure size 432x288 with 1 Axes>"
            ],
            "image/png": "[encoded data removed]"
          },
          "metadata": {
            "needs_background": "light"
          }
        }
      ]
    },
    {
      "cell_type": "code",
      "source": [
        "def plot_acc(history,title):\n",
        "    plt.title(title)\n",
        "    plt.plot(history.history['accuracy'])\n",
        "    plt.plot(history.history['val_accuracy'])\n",
        "    plt.ylabel('accuracy')\n",
        "    plt.xlabel('epoch')\n",
        "    plt.legend(['train_accuracy', 'validation_accuracy'], loc='best')\n",
        "    plt.show()"
      ],
      "metadata": {
        "id": "TleFrA-5Njpq"
      },
      "execution_count": 36,
      "outputs": []
    },
    {
      "cell_type": "code",
      "source": [
        "plot_acc(hist_model_ans,'Model simplefiled')"
      ],
      "metadata": {
        "colab": {
          "base_uri": "https://localhost:8080/",
          "height": 295
        },
        "id": "_TGhVKpbNtiq",
        "outputId": "c83c3220-2ecf-4db6-9144-3fdc75bc55b0"
      },
      "execution_count": 37,
      "outputs": [
        {
          "output_type": "display_data",
          "data": {
            "text/plain": [
              "<Figure size 432x288 with 1 Axes>"
            ],
            "image/png": "[encoded data removed]"
          },
          "metadata": {
            "needs_background": "light"
          }
        }
      ]
    },
    {
      "cell_type": "markdown",
      "source": [
        "The curves acc and loss seems bit jumpy or overfit"
      ],
      "metadata": {
        "id": "s-MHGFBpN_MY"
      }
    },
    {
      "cell_type": "markdown",
      "source": [
        "### Try Again with augmented"
      ],
      "metadata": {
        "id": "rIh5uK07OS5x"
      }
    },
    {
      "cell_type": "code",
      "source": [
        "train_datagen_augmented=ImageDataGenerator(rotation_range=20, # note: this is an int not a float\n",
        "                                             width_shift_range=0.2,\n",
        "                                             height_shift_range=0.2,\n",
        "                                             zoom_range=0.2,\n",
        "                                             horizontal_flip=True)\n",
        "test_datagen_augmented=ImageDataGenerator(rotation_range=20, # note: this is an int not a float\n",
        "                                             width_shift_range=0.2,\n",
        "                                             height_shift_range=0.2,\n",
        "                                             zoom_range=0.2,\n",
        "                                             horizontal_flip=True)"
      ],
      "metadata": {
        "id": "aYGpsSXuOG3u"
      },
      "execution_count": 38,
      "outputs": []
    },
    {
      "cell_type": "code",
      "source": [
        "train_data_augmented=train_datagen_augmented.flow_from_directory(train_dir,\n",
        "                                             target_size=(224,224),\n",
        "                                             class_mode='binary')\n",
        "test_data_augmented=test_datagen_augmented.flow_from_directory(test_dir,\n",
        "                                             target_size=(224,224),\n",
        "                                             class_mode='binary')"
      ],
      "metadata": {
        "colab": {
          "base_uri": "https://localhost:8080/"
        },
        "id": "zZJjXvoiOOmz",
        "outputId": "86b45796-13a2-4cc2-fec6-510624de8b69"
      },
      "execution_count": 39,
      "outputs": [
        {
          "output_type": "stream",
          "name": "stdout",
          "text": [
            "Found 1600 images belonging to 2 classes.\n",
            "Found 200 images belonging to 2 classes.\n"
          ]
        }
      ]
    },
    {
      "cell_type": "code",
      "source": [
        "hist_model_ans_aug=model_ans.fit(train_data_augmented,\n",
        "                             epochs=5,\n",
        "                             steps_per_epoch=len(train_data_augmented),\n",
        "                             validation_data=test_data_augmented,\n",
        "                             validation_steps=len(test_data_augmented))"
      ],
      "metadata": {
        "colab": {
          "base_uri": "https://localhost:8080/"
        },
        "id": "6G9gRp1iObdv",
        "outputId": "656ed9f8-6b1e-4605-e856-388b00a5f869"
      },
      "execution_count": 40,
      "outputs": [
        {
          "output_type": "stream",
          "name": "stdout",
          "text": [
            "Epoch 1/5\n",
            "50/50 [==============================] - 26s 520ms/step - loss: 98.3546 - accuracy: 0.6300 - val_loss: 8.8310 - val_accuracy: 0.5850\n",
            "Epoch 2/5\n",
            "50/50 [==============================] - 24s 486ms/step - loss: 5.4924 - accuracy: 0.6056 - val_loss: 5.3448 - val_accuracy: 0.5550\n",
            "Epoch 3/5\n",
            "50/50 [==============================] - 24s 485ms/step - loss: 2.9489 - accuracy: 0.5969 - val_loss: 2.0559 - val_accuracy: 0.5500\n",
            "Epoch 4/5\n",
            "50/50 [==============================] - 24s 490ms/step - loss: 1.9809 - accuracy: 0.5850 - val_loss: 1.4349 - val_accuracy: 0.5700\n",
            "Epoch 5/5\n",
            "50/50 [==============================] - 25s 505ms/step - loss: 1.7298 - accuracy: 0.5875 - val_loss: 1.0790 - val_accuracy: 0.5350\n"
          ]
        }
      ]
    },
    {
      "cell_type": "code",
      "source": [
        "def plot_loss_acc(history,title):\n",
        "    plt.figure()\n",
        "    plt.title(title)\n",
        "    plt.plot(history.history['loss'])\n",
        "    plt.plot(history.history['val_loss'])\n",
        "    plt.ylabel('loss')\n",
        "    plt.xlabel('epoch')\n",
        "    plt.legend(['train_loss', 'validation_loss'], loc='best')\n",
        "\n",
        "    plt.figure()\n",
        "    plt.title(title)\n",
        "    plt.plot(history.history['accuracy'])\n",
        "    plt.plot(history.history['val_accuracy'])\n",
        "    plt.ylabel('accuracy')\n",
        "    plt.xlabel('epoch')\n",
        "    plt.legend(['train_accuracy', 'validation_accuracy'], loc='best')\n",
        "    plt.show()"
      ],
      "metadata": {
        "id": "Kz26eTeA9G8X"
      },
      "execution_count": 44,
      "outputs": []
    },
    {
      "cell_type": "code",
      "source": [
        "plot_loss_acc(hist_model_ans_aug,'Model data augmented')"
      ],
      "metadata": {
        "colab": {
          "base_uri": "https://localhost:8080/",
          "height": 573
        },
        "id": "MVbj34EU9N8l",
        "outputId": "94d5e22d-9e8d-426d-dd46-c18252394736"
      },
      "execution_count": 46,
      "outputs": [
        {
          "output_type": "display_data",
          "data": {
            "text/plain": [
              "<Figure size 432x288 with 1 Axes>"
            ],
            "image/png": "[encoded data removed]"
          },
          "metadata": {
            "needs_background": "light"
          }
        },
        {
          "output_type": "display_data",
          "data": {
            "text/plain": [
              "<Figure size 432x288 with 1 Axes>"
            ],
            "image/png": "[encoded data removed]"
          },
          "metadata": {
            "needs_background": "light"
          }
        }
      ]
    },
    {
      "cell_type": "markdown",
      "source": [
        "Reference https://towardsdatascience.com/dont-overfit-how-to-prevent-overfitting-in-your-deep-learning-models-63274e552323"
      ],
      "metadata": {
        "id": "E53K7Cwv-hMw"
      }
    },
    {
      "cell_type": "markdown",
      "source": [
        "SO the conclusion is data with augmented can make prodduce accuration les than data not augmented."
      ],
      "metadata": {
        "id": "q5WKxsBB-DDo"
      }
    },
    {
      "cell_type": "markdown",
      "source": [
        "# Number 4"
      ],
      "metadata": {
        "id": "P4QjkX5V-o-H"
      }
    },
    {
      "cell_type": "markdown",
      "source": [
        "reference : https://machinelearningmastery.com/using-learning-rate-schedules-deep-learning-models-python-keras/"
      ],
      "metadata": {
        "id": "q-Svwelu-60_"
      }
    },
    {
      "cell_type": "markdown",
      "source": [
        "https://neptune.ai/blog/how-to-choose-a-learning-rate-scheduler"
      ],
      "metadata": {
        "id": "O6y1SYQ3_GaW"
      }
    },
    {
      "cell_type": "code",
      "source": [
        "from tensorflow.keras.callbacks import LearningRateScheduler"
      ],
      "metadata": {
        "id": "tHVdonzU-v7y"
      },
      "execution_count": 47,
      "outputs": []
    },
    {
      "cell_type": "code",
      "source": [
        "lr_scheduler=LearningRateScheduler(lambda epoch:1e-4*10**(epoch/20))"
      ],
      "metadata": {
        "id": "HXqAovmr9Uz9"
      },
      "execution_count": 48,
      "outputs": []
    },
    {
      "cell_type": "code",
      "source": [
        "lr_hist_=model_ans.fit(train_data,\n",
        "                             epochs=5,\n",
        "                             steps_per_epoch=len(train_data),\n",
        "                             validation_data=test_data,\n",
        "                             validation_steps=len(test_data),\n",
        "                            callbacks = [lr_scheduler]\n",
        "                       )"
      ],
      "metadata": {
        "colab": {
          "base_uri": "https://localhost:8080/"
        },
        "id": "7hajuFES_fJ-",
        "outputId": "66b3606d-fad5-4f6e-93b3-3a570637ae49"
      },
      "execution_count": 76,
      "outputs": [
        {
          "output_type": "stream",
          "name": "stdout",
          "text": [
            "Epoch 1/5\n",
            "50/50 [==============================] - 8s 162ms/step - loss: 0.6756 - accuracy: 0.6506 - val_loss: 0.6836 - val_accuracy: 0.5650 - lr: 1.0000e-04\n",
            "Epoch 2/5\n",
            "50/50 [==============================] - 8s 165ms/step - loss: 0.6752 - accuracy: 0.6506 - val_loss: 0.6832 - val_accuracy: 0.5750 - lr: 1.1220e-04\n",
            "Epoch 3/5\n",
            "50/50 [==============================] - 9s 174ms/step - loss: 0.6748 - accuracy: 0.6481 - val_loss: 0.6827 - val_accuracy: 0.5800 - lr: 1.2589e-04\n",
            "Epoch 4/5\n",
            "50/50 [==============================] - 8s 159ms/step - loss: 0.6743 - accuracy: 0.6388 - val_loss: 0.6822 - val_accuracy: 0.5700 - lr: 1.4125e-04\n",
            "Epoch 5/5\n",
            "50/50 [==============================] - 8s 159ms/step - loss: 0.6738 - accuracy: 0.6350 - val_loss: 0.6818 - val_accuracy: 0.5700 - lr: 1.5849e-04\n"
          ]
        }
      ]
    },
    {
      "cell_type": "code",
      "source": [
        "lrs = 1e-4 * (10 ** (np.arange(5)/20))\n"
      ],
      "metadata": {
        "id": "IC4kI3g9Brfz"
      },
      "execution_count": 87,
      "outputs": []
    },
    {
      "cell_type": "code",
      "source": [
        "lrs"
      ],
      "metadata": {
        "colab": {
          "base_uri": "https://localhost:8080/"
        },
        "id": "SplA-h8jBtnI",
        "outputId": "cf241bf4-cfae-4188-eb88-44e3cf50e4a0"
      },
      "execution_count": 88,
      "outputs": [
        {
          "output_type": "execute_result",
          "data": {
            "text/plain": [
              "array([0.0001    , 0.0001122 , 0.00012589, 0.00014125, 0.00015849])"
            ]
          },
          "metadata": {},
          "execution_count": 88
        }
      ]
    },
    {
      "cell_type": "code",
      "source": [
        "plt.semilogx(lrs,lr_hist_.history[\"loss\"])"
      ],
      "metadata": {
        "colab": {
          "base_uri": "https://localhost:8080/",
          "height": 286
        },
        "id": "70Z2FF7OAk0S",
        "outputId": "b4247cc8-ca77-4142-85b3-2ca55a38e03d"
      },
      "execution_count": 89,
      "outputs": [
        {
          "output_type": "execute_result",
          "data": {
            "text/plain": [
              "[<matplotlib.lines.Line2D at 0x7ff5c0734890>]"
            ]
          },
          "metadata": {},
          "execution_count": 89
        },
        {
          "output_type": "display_data",
          "data": {
            "text/plain": [
              "<Figure size 432x288 with 1 Axes>"
            ],
            "image/png": "[encoded data removed]"
          },
          "metadata": {
            "needs_background": "light"
          }
        }
      ]
    },
    {
      "cell_type": "code",
      "source": [
        "model_ans.summary()"
      ],
      "metadata": {
        "colab": {
          "base_uri": "https://localhost:8080/"
        },
        "id": "zUMl1m3EBR9h",
        "outputId": "4fa4cc85-40d4-4b4e-944c-f4ea793f733e"
      },
      "execution_count": 82,
      "outputs": [
        {
          "output_type": "stream",
          "name": "stdout",
          "text": [
            "Model: \"sequential\"\n",
            "_________________________________________________________________\n",
            " Layer (type)                Output Shape              Param #   \n",
            "=================================================================\n",
            " conv2d (Conv2D)             (None, 222, 222, 10)      280       \n",
            "                                                                 \n",
            " max_pooling2d (MaxPooling2D  (None, 111, 111, 10)     0         \n",
            " )                                                               \n",
            "                                                                 \n",
            " flatten (Flatten)           (None, 123210)            0         \n",
            "                                                                 \n",
            " dense (Dense)               (None, 1)                 123211    \n",
            "                                                                 \n",
            "=================================================================\n",
            "Total params: 123,491\n",
            "Trainable params: 123,491\n",
            "Non-trainable params: 0\n",
            "_________________________________________________________________\n"
          ]
        }
      ]
    },
    {
      "cell_type": "code",
      "source": [
        "# Function curves learning rate\n",
        "def curves_LR(lrs,model):\n",
        " \n",
        "  plt.figure(figsize=(10, 7))\n",
        "  plt.semilogx(lrs, model.history[\"loss\"]) # we want the x-axis (learning rate) to be log scale\n",
        "  plt.xlabel(\"Learning Rate\")\n",
        "  plt.ylabel(\"Loss\")\n",
        "  plt.title(\"Learning rate vs. loss\");"
      ],
      "metadata": {
        "id": "EfMIHkLj_qPA"
      },
      "execution_count": 90,
      "outputs": []
    },
    {
      "cell_type": "code",
      "source": [
        "lrs = 1e-4 * (10 ** (np.arange(5)/20))\n"
      ],
      "metadata": {
        "id": "bvLOjh0IAE-M"
      },
      "execution_count": 91,
      "outputs": []
    },
    {
      "cell_type": "code",
      "source": [
        "curves_LR(lrs,lr_hist_)"
      ],
      "metadata": {
        "colab": {
          "base_uri": "https://localhost:8080/",
          "height": 462
        },
        "id": "-uc9B-uTB4mh",
        "outputId": "3e162313-d632-4980-f3e1-3ed1eb031b5e"
      },
      "execution_count": 92,
      "outputs": [
        {
          "output_type": "display_data",
          "data": {
            "text/plain": [
              "<Figure size 720x504 with 1 Axes>"
            ],
            "image/png": "[encoded data removed]"
          },
          "metadata": {
            "needs_background": "light"
          }
        }
      ]
    },
    {
      "cell_type": "code",
      "source": [
        "lrs"
      ],
      "metadata": {
        "colab": {
          "base_uri": "https://localhost:8080/"
        },
        "id": "Uy46PxfQCHEt",
        "outputId": "fcb41668-0539-4573-83a8-814b49f03ace"
      },
      "execution_count": 94,
      "outputs": [
        {
          "output_type": "execute_result",
          "data": {
            "text/plain": [
              "array([0.0001    , 0.0001122 , 0.00012589, 0.00014125, 0.00015849])"
            ]
          },
          "metadata": {},
          "execution_count": 94
        }
      ]
    },
    {
      "cell_type": "code",
      "source": [
        "1e-4"
      ],
      "metadata": {
        "colab": {
          "base_uri": "https://localhost:8080/"
        },
        "id": "WuAxJZ8zDw99",
        "outputId": "c4812007-c287-4120-806f-fb525bbf76e8"
      },
      "execution_count": 104,
      "outputs": [
        {
          "output_type": "execute_result",
          "data": {
            "text/plain": [
              "0.0001"
            ]
          },
          "metadata": {},
          "execution_count": 104
        }
      ]
    },
    {
      "cell_type": "code",
      "source": [
        "1.6**-4"
      ],
      "metadata": {
        "colab": {
          "base_uri": "https://localhost:8080/"
        },
        "id": "trTBWTznB-rT",
        "outputId": "3e237c3a-aa46-4332-b6b8-1fd75abc0b49"
      },
      "execution_count": 99,
      "outputs": [
        {
          "output_type": "execute_result",
          "data": {
            "text/plain": [
              "0.15258789062499997"
            ]
          },
          "metadata": {},
          "execution_count": 99
        }
      ]
    },
    {
      "cell_type": "code",
      "source": [
        "1.6*1e-4"
      ],
      "metadata": {
        "colab": {
          "base_uri": "https://localhost:8080/"
        },
        "id": "9EFe6g-ODi9s",
        "outputId": "fca939c9-2c71-42df-b1c6-66f141eadfb1"
      },
      "execution_count": 103,
      "outputs": [
        {
          "output_type": "execute_result",
          "data": {
            "text/plain": [
              "0.00016"
            ]
          },
          "metadata": {},
          "execution_count": 103
        }
      ]
    },
    {
      "cell_type": "code",
      "source": [
        "model_ans.compile(loss='BinaryCrossentropy',\n",
        "                  optimizer=Adam(learning_rate=0.00014125),\n",
        "                  metrics=[\"accuracy\"])"
      ],
      "metadata": {
        "id": "I5kH8OZQCFeL"
      },
      "execution_count": 107,
      "outputs": []
    },
    {
      "cell_type": "code",
      "source": [
        "lr_get_best=model_ans.fit(train_data,\n",
        "                             epochs=5,\n",
        "                             steps_per_epoch=len(train_data),\n",
        "                             validation_data=test_data,\n",
        "                             validation_steps=len(test_data),)"
      ],
      "metadata": {
        "colab": {
          "base_uri": "https://localhost:8080/"
        },
        "id": "I7QjwkpRDTcv",
        "outputId": "e39eb5c4-c3bb-4831-d0d9-01b9d7319b20"
      },
      "execution_count": 108,
      "outputs": [
        {
          "output_type": "stream",
          "name": "stdout",
          "text": [
            "Epoch 1/5\n",
            "50/50 [==============================] - 8s 162ms/step - loss: 0.6947 - accuracy: 0.5000 - val_loss: 0.6946 - val_accuracy: 0.5000\n",
            "Epoch 2/5\n",
            "50/50 [==============================] - 8s 159ms/step - loss: 0.6946 - accuracy: 0.5000 - val_loss: 0.6946 - val_accuracy: 0.5000\n",
            "Epoch 3/5\n",
            "50/50 [==============================] - 8s 161ms/step - loss: 0.6946 - accuracy: 0.5000 - val_loss: 0.6945 - val_accuracy: 0.5000\n",
            "Epoch 4/5\n",
            "50/50 [==============================] - 8s 159ms/step - loss: 0.6945 - accuracy: 0.5000 - val_loss: 0.6945 - val_accuracy: 0.5000\n",
            "Epoch 5/5\n",
            "50/50 [==============================] - 9s 190ms/step - loss: 0.6945 - accuracy: 0.5000 - val_loss: 0.6944 - val_accuracy: 0.5000\n"
          ]
        }
      ]
    },
    {
      "cell_type": "code",
      "source": [
        "pd.DataFrame(hist_model_ans.history)"
      ],
      "metadata": {
        "colab": {
          "base_uri": "https://localhost:8080/",
          "height": 206
        },
        "id": "b8Jx0FxdEkIV",
        "outputId": "af7560e7-329d-456f-ce08-cd6e7c5f73e3"
      },
      "execution_count": 111,
      "outputs": [
        {
          "output_type": "execute_result",
          "data": {
            "text/plain": [
              "       loss  accuracy  val_loss  val_accuracy\n",
              "0  1.504789  0.621875  0.740874         0.660\n",
              "1  0.526673  0.744375  0.597100         0.710\n",
              "2  0.443893  0.801250  0.532063         0.710\n",
              "3  0.369430  0.847500  0.513360         0.745\n",
              "4  0.298199  0.896250  0.593882         0.730"
            ],
            "text/html": [
              "\n",
              "  <div id=\"df-5e95fcf5-d817-4bc7-b1c4-ad5ffbb9de70\">\n",
              "    <div class=\"colab-df-container\">\n",
              "      <div>\n",
              "<style scoped>\n",
              "    .dataframe tbody tr th:only-of-type {\n",
              "        vertical-align: middle;\n",
              "    }\n",
              "\n",
              "    .dataframe tbody tr th {\n",
              "        vertical-align: top;\n",
              "    }\n",
              "\n",
              "    .dataframe thead th {\n",
              "        text-align: right;\n",
              "    }\n",
              "</style>\n",
              "<table border=\"1\" class=\"dataframe\">\n",
              "  <thead>\n",
              "    <tr style=\"text-align: right;\">\n",
              "      <th></th>\n",
              "      <th>loss</th>\n",
              "      <th>accuracy</th>\n",
              "      <th>val_loss</th>\n",
              "      <th>val_accuracy</th>\n",
              "    </tr>\n",
              "  </thead>\n",
              "  <tbody>\n",
              "    <tr>\n",
              "      <th>0</th>\n",
              "      <td>1.504789</td>\n",
              "      <td>0.621875</td>\n",
              "      <td>0.740874</td>\n",
              "      <td>0.660</td>\n",
              "    </tr>\n",
              "    <tr>\n",
              "      <th>1</th>\n",
              "      <td>0.526673</td>\n",
              "      <td>0.744375</td>\n",
              "      <td>0.597100</td>\n",
              "      <td>0.710</td>\n",
              "    </tr>\n",
              "    <tr>\n",
              "      <th>2</th>\n",
              "      <td>0.443893</td>\n",
              "      <td>0.801250</td>\n",
              "      <td>0.532063</td>\n",
              "      <td>0.710</td>\n",
              "    </tr>\n",
              "    <tr>\n",
              "      <th>3</th>\n",
              "      <td>0.369430</td>\n",
              "      <td>0.847500</td>\n",
              "      <td>0.513360</td>\n",
              "      <td>0.745</td>\n",
              "    </tr>\n",
              "    <tr>\n",
              "      <th>4</th>\n",
              "      <td>0.298199</td>\n",
              "      <td>0.896250</td>\n",
              "      <td>0.593882</td>\n",
              "      <td>0.730</td>\n",
              "    </tr>\n",
              "  </tbody>\n",
              "</table>\n",
              "</div>\n",
              "      <button class=\"colab-df-convert\" onclick=\"convertToInteractive('df-5e95fcf5-d817-4bc7-b1c4-ad5ffbb9de70')\"\n",
              "              title=\"Convert this dataframe to an interactive table.\"\n",
              "              style=\"display:none;\">\n",
              "        \n",
              "  <svg xmlns=\"http://www.w3.org/2000/svg\" height=\"24px\"viewBox=\"0 0 24 24\"\n",
              "       width=\"24px\">\n",
              "    <path d=\"M0 0h24v24H0V0z\" fill=\"none\"/>\n",
              "    <path d=\"M18.56 5.44l.94 2.06.94-2.06 2.06-.94-2.06-.94-.94-2.06-.94 2.06-2.06.94zm-11 1L8.5 8.5l.94-2.06 2.06-.94-2.06-.94L8.5 2.5l-.94 2.06-2.06.94zm10 10l.94 2.06.94-2.06 2.06-.94-2.06-.94-.94-2.06-.94 2.06-2.06.94z\"/><path d=\"M17.41 7.96l-1.37-1.37c-.4-.4-.92-.59-1.43-.59-.52 0-1.04.2-1.43.59L10.3 9.45l-7.72 7.72c-.78.78-.78 2.05 0 2.83L4 21.41c.39.39.9.59 1.41.59.51 0 1.02-.2 1.41-.59l7.78-7.78 2.81-2.81c.8-.78.8-2.07 0-2.86zM5.41 20L4 18.59l7.72-7.72 1.47 1.35L5.41 20z\"/>\n",
              "  </svg>\n",
              "      </button>\n",
              "      \n",
              "  <style>\n",
              "    .colab-df-container {\n",
              "      display:flex;\n",
              "      flex-wrap:wrap;\n",
              "      gap: 12px;\n",
              "    }\n",
              "\n",
              "    .colab-df-convert {\n",
              "      background-color: #E8F0FE;\n",
              "      border: none;\n",
              "      border-radius: 50%;\n",
              "      cursor: pointer;\n",
              "      display: none;\n",
              "      fill: #1967D2;\n",
              "      height: 32px;\n",
              "      padding: 0 0 0 0;\n",
              "      width: 32px;\n",
              "    }\n",
              "\n",
              "    .colab-df-convert:hover {\n",
              "      background-color: #E2EBFA;\n",
              "      box-shadow: 0px 1px 2px rgba(60, 64, 67, 0.3), 0px 1px 3px 1px rgba(60, 64, 67, 0.15);\n",
              "      fill: #174EA6;\n",
              "    }\n",
              "\n",
              "    [theme=dark] .colab-df-convert {\n",
              "      background-color: #3B4455;\n",
              "      fill: #D2E3FC;\n",
              "    }\n",
              "\n",
              "    [theme=dark] .colab-df-convert:hover {\n",
              "      background-color: #434B5C;\n",
              "      box-shadow: 0px 1px 3px 1px rgba(0, 0, 0, 0.15);\n",
              "      filter: drop-shadow(0px 1px 2px rgba(0, 0, 0, 0.3));\n",
              "      fill: #FFFFFF;\n",
              "    }\n",
              "  </style>\n",
              "\n",
              "      <script>\n",
              "        const buttonEl =\n",
              "          document.querySelector('#df-5e95fcf5-d817-4bc7-b1c4-ad5ffbb9de70 button.colab-df-convert');\n",
              "        buttonEl.style.display =\n",
              "          google.colab.kernel.accessAllowed ? 'block' : 'none';\n",
              "\n",
              "        async function convertToInteractive(key) {\n",
              "          const element = document.querySelector('#df-5e95fcf5-d817-4bc7-b1c4-ad5ffbb9de70');\n",
              "          const dataTable =\n",
              "            await google.colab.kernel.invokeFunction('convertToInteractive',\n",
              "                                                     [key], {});\n",
              "          if (!dataTable) return;\n",
              "\n",
              "          const docLinkHtml = 'Like what you see? Visit the ' +\n",
              "            '<a target=\"_blank\" href=https://colab.research.google.com/notebooks/data_table.ipynb>data table notebook</a>'\n",
              "            + ' to learn more about interactive tables.';\n",
              "          element.innerHTML = '';\n",
              "          dataTable['output_type'] = 'display_data';\n",
              "          await google.colab.output.renderOutput(dataTable, element);\n",
              "          const docLink = document.createElement('div');\n",
              "          docLink.innerHTML = docLinkHtml;\n",
              "          element.appendChild(docLink);\n",
              "        }\n",
              "      </script>\n",
              "    </div>\n",
              "  </div>\n",
              "  "
            ]
          },
          "metadata": {},
          "execution_count": 111
        }
      ]
    },
    {
      "cell_type": "code",
      "source": [
        "pd.DataFrame(lr_get_best.history)"
      ],
      "metadata": {
        "colab": {
          "base_uri": "https://localhost:8080/",
          "height": 206
        },
        "id": "O3YlTIOcEe_k",
        "outputId": "5fe761a2-5190-49ad-81ec-f7cc9264dc01"
      },
      "execution_count": 110,
      "outputs": [
        {
          "output_type": "execute_result",
          "data": {
            "text/plain": [
              "       loss  accuracy  val_loss  val_accuracy\n",
              "0  0.694668       0.5  0.694634           0.5\n",
              "1  0.694612       0.5  0.694585           0.5\n",
              "2  0.694560       0.5  0.694517           0.5\n",
              "3  0.694502       0.5  0.694479           0.5\n",
              "4  0.694453       0.5  0.694431           0.5"
            ],
            "text/html": [
              "\n",
              "  <div id=\"df-631da08a-02c5-41cb-aeb6-4cd2fb4ee09b\">\n",
              "    <div class=\"colab-df-container\">\n",
              "      <div>\n",
              "<style scoped>\n",
              "    .dataframe tbody tr th:only-of-type {\n",
              "        vertical-align: middle;\n",
              "    }\n",
              "\n",
              "    .dataframe tbody tr th {\n",
              "        vertical-align: top;\n",
              "    }\n",
              "\n",
              "    .dataframe thead th {\n",
              "        text-align: right;\n",
              "    }\n",
              "</style>\n",
              "<table border=\"1\" class=\"dataframe\">\n",
              "  <thead>\n",
              "    <tr style=\"text-align: right;\">\n",
              "      <th></th>\n",
              "      <th>loss</th>\n",
              "      <th>accuracy</th>\n",
              "      <th>val_loss</th>\n",
              "      <th>val_accuracy</th>\n",
              "    </tr>\n",
              "  </thead>\n",
              "  <tbody>\n",
              "    <tr>\n",
              "      <th>0</th>\n",
              "      <td>0.694668</td>\n",
              "      <td>0.5</td>\n",
              "      <td>0.694634</td>\n",
              "      <td>0.5</td>\n",
              "    </tr>\n",
              "    <tr>\n",
              "      <th>1</th>\n",
              "      <td>0.694612</td>\n",
              "      <td>0.5</td>\n",
              "      <td>0.694585</td>\n",
              "      <td>0.5</td>\n",
              "    </tr>\n",
              "    <tr>\n",
              "      <th>2</th>\n",
              "      <td>0.694560</td>\n",
              "      <td>0.5</td>\n",
              "      <td>0.694517</td>\n",
              "      <td>0.5</td>\n",
              "    </tr>\n",
              "    <tr>\n",
              "      <th>3</th>\n",
              "      <td>0.694502</td>\n",
              "      <td>0.5</td>\n",
              "      <td>0.694479</td>\n",
              "      <td>0.5</td>\n",
              "    </tr>\n",
              "    <tr>\n",
              "      <th>4</th>\n",
              "      <td>0.694453</td>\n",
              "      <td>0.5</td>\n",
              "      <td>0.694431</td>\n",
              "      <td>0.5</td>\n",
              "    </tr>\n",
              "  </tbody>\n",
              "</table>\n",
              "</div>\n",
              "      <button class=\"colab-df-convert\" onclick=\"convertToInteractive('df-631da08a-02c5-41cb-aeb6-4cd2fb4ee09b')\"\n",
              "              title=\"Convert this dataframe to an interactive table.\"\n",
              "              style=\"display:none;\">\n",
              "        \n",
              "  <svg xmlns=\"http://www.w3.org/2000/svg\" height=\"24px\"viewBox=\"0 0 24 24\"\n",
              "       width=\"24px\">\n",
              "    <path d=\"M0 0h24v24H0V0z\" fill=\"none\"/>\n",
              "    <path d=\"M18.56 5.44l.94 2.06.94-2.06 2.06-.94-2.06-.94-.94-2.06-.94 2.06-2.06.94zm-11 1L8.5 8.5l.94-2.06 2.06-.94-2.06-.94L8.5 2.5l-.94 2.06-2.06.94zm10 10l.94 2.06.94-2.06 2.06-.94-2.06-.94-.94-2.06-.94 2.06-2.06.94z\"/><path d=\"M17.41 7.96l-1.37-1.37c-.4-.4-.92-.59-1.43-.59-.52 0-1.04.2-1.43.59L10.3 9.45l-7.72 7.72c-.78.78-.78 2.05 0 2.83L4 21.41c.39.39.9.59 1.41.59.51 0 1.02-.2 1.41-.59l7.78-7.78 2.81-2.81c.8-.78.8-2.07 0-2.86zM5.41 20L4 18.59l7.72-7.72 1.47 1.35L5.41 20z\"/>\n",
              "  </svg>\n",
              "      </button>\n",
              "      \n",
              "  <style>\n",
              "    .colab-df-container {\n",
              "      display:flex;\n",
              "      flex-wrap:wrap;\n",
              "      gap: 12px;\n",
              "    }\n",
              "\n",
              "    .colab-df-convert {\n",
              "      background-color: #E8F0FE;\n",
              "      border: none;\n",
              "      border-radius: 50%;\n",
              "      cursor: pointer;\n",
              "      display: none;\n",
              "      fill: #1967D2;\n",
              "      height: 32px;\n",
              "      padding: 0 0 0 0;\n",
              "      width: 32px;\n",
              "    }\n",
              "\n",
              "    .colab-df-convert:hover {\n",
              "      background-color: #E2EBFA;\n",
              "      box-shadow: 0px 1px 2px rgba(60, 64, 67, 0.3), 0px 1px 3px 1px rgba(60, 64, 67, 0.15);\n",
              "      fill: #174EA6;\n",
              "    }\n",
              "\n",
              "    [theme=dark] .colab-df-convert {\n",
              "      background-color: #3B4455;\n",
              "      fill: #D2E3FC;\n",
              "    }\n",
              "\n",
              "    [theme=dark] .colab-df-convert:hover {\n",
              "      background-color: #434B5C;\n",
              "      box-shadow: 0px 1px 3px 1px rgba(0, 0, 0, 0.15);\n",
              "      filter: drop-shadow(0px 1px 2px rgba(0, 0, 0, 0.3));\n",
              "      fill: #FFFFFF;\n",
              "    }\n",
              "  </style>\n",
              "\n",
              "      <script>\n",
              "        const buttonEl =\n",
              "          document.querySelector('#df-631da08a-02c5-41cb-aeb6-4cd2fb4ee09b button.colab-df-convert');\n",
              "        buttonEl.style.display =\n",
              "          google.colab.kernel.accessAllowed ? 'block' : 'none';\n",
              "\n",
              "        async function convertToInteractive(key) {\n",
              "          const element = document.querySelector('#df-631da08a-02c5-41cb-aeb6-4cd2fb4ee09b');\n",
              "          const dataTable =\n",
              "            await google.colab.kernel.invokeFunction('convertToInteractive',\n",
              "                                                     [key], {});\n",
              "          if (!dataTable) return;\n",
              "\n",
              "          const docLinkHtml = 'Like what you see? Visit the ' +\n",
              "            '<a target=\"_blank\" href=https://colab.research.google.com/notebooks/data_table.ipynb>data table notebook</a>'\n",
              "            + ' to learn more about interactive tables.';\n",
              "          element.innerHTML = '';\n",
              "          dataTable['output_type'] = 'display_data';\n",
              "          await google.colab.output.renderOutput(dataTable, element);\n",
              "          const docLink = document.createElement('div');\n",
              "          docLink.innerHTML = docLinkHtml;\n",
              "          element.appendChild(docLink);\n",
              "        }\n",
              "      </script>\n",
              "    </div>\n",
              "  </div>\n",
              "  "
            ]
          },
          "metadata": {},
          "execution_count": 110
        }
      ]
    },
    {
      "cell_type": "code",
      "source": [
        "plot_loss_acc(lr_get_best,'Model get best LR')"
      ],
      "metadata": {
        "colab": {
          "base_uri": "https://localhost:8080/",
          "height": 573
        },
        "id": "I_KIW9NuELcQ",
        "outputId": "09c0465e-3811-4351-a4ea-d89e7e4a5282"
      },
      "execution_count": 109,
      "outputs": [
        {
          "output_type": "display_data",
          "data": {
            "text/plain": [
              "<Figure size 432x288 with 1 Axes>"
            ],
            "image/png": "[encoded data removed]"
          },
          "metadata": {
            "needs_background": "light"
          }
        },
        {
          "output_type": "display_data",
          "data": {
            "text/plain": [
              "<Figure size 432x288 with 1 Axes>"
            ],
            "image/png": "[encoded data removed]"
          },
          "metadata": {
            "needs_background": "light"
          }
        }
      ]
    },
    {
      "cell_type": "markdown",
      "source": [
        "Concluion default adam Optimizer tensorflow reduce acc, but the lost reduce with validation data"
      ],
      "metadata": {
        "id": "f2VEPoc5EUF4"
      }
    }
  ]
}